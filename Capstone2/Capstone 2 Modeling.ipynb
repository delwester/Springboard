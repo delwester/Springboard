{
 "cells": [
  {
   "cell_type": "code",
   "execution_count": 1,
   "metadata": {},
   "outputs": [],
   "source": [
    "#Import packages:\n",
    "import os\n",
    "import pandas as pd\n",
    "from datetime import datetime,timedelta\n",
    "import seaborn as sns\n",
    "import matplotlib.pyplot as plt\n",
    "import numpy as np\n",
    "from sklearn.preprocessing import RobustScaler\n",
    "from sklearn.linear_model import LogisticRegression\n",
    "from sklearn.model_selection import train_test_split, cross_val_score, GridSearchCV, validation_curve, StratifiedShuffleSplit\n",
    "from sklearn.neighbors import KNeighborsClassifier\n",
    "from sklearn.svm import SVC\n",
    "from sklearn.ensemble import GradientBoostingClassifier, RandomForestClassifier, RandomForestRegressor\n",
    "from sklearn.tree import DecisionTreeClassifier\n",
    "from sklearn.naive_bayes import GaussianNB\n",
    "from sklearn.metrics import auc, roc_curve, roc_auc_score, accuracy_score, confusion_matrix, r2_score, classification_report\n",
    "from sklearn.datasets import make_classification \n",
    "from sklearn.inspection import permutation_importance\n"
   ]
  },
  {
   "cell_type": "code",
   "execution_count": 27,
   "metadata": {},
   "outputs": [],
   "source": [
    "#import data\n",
    "redimportedData ='red_wine_scaled.csv'\n",
    "red_wine = pd.read_csv(redimportedData, index_col = False)\n",
    "red_wine = red_wine.drop(columns='Unnamed: 0', axis = 1)\n",
    "whiteimportedData ='white_wine_scaled.csv'\n",
    "white_wine = pd.read_csv(whiteimportedData, index_col = False)\n",
    "white_wine = white_wine.drop(columns='Unnamed: 0', axis = 1)"
   ]
  },
  {
   "cell_type": "code",
   "execution_count": 28,
   "metadata": {},
   "outputs": [
    {
     "data": {
      "text/html": [
       "<div>\n",
       "<style scoped>\n",
       "    .dataframe tbody tr th:only-of-type {\n",
       "        vertical-align: middle;\n",
       "    }\n",
       "\n",
       "    .dataframe tbody tr th {\n",
       "        vertical-align: top;\n",
       "    }\n",
       "\n",
       "    .dataframe thead th {\n",
       "        text-align: right;\n",
       "    }\n",
       "</style>\n",
       "<table border=\"1\" class=\"dataframe\">\n",
       "  <thead>\n",
       "    <tr style=\"text-align: right;\">\n",
       "      <th></th>\n",
       "      <th>fixed_acidity</th>\n",
       "      <th>residual_sugar</th>\n",
       "      <th>free_sulfur_dioxide</th>\n",
       "      <th>pH</th>\n",
       "      <th>sulphates</th>\n",
       "      <th>alcohol</th>\n",
       "      <th>qual_bin</th>\n",
       "    </tr>\n",
       "  </thead>\n",
       "  <tbody>\n",
       "    <tr>\n",
       "      <th>0</th>\n",
       "      <td>-0.238095</td>\n",
       "      <td>-0.428571</td>\n",
       "      <td>-0.214286</td>\n",
       "      <td>1.052632</td>\n",
       "      <td>-0.333333</td>\n",
       "      <td>-0.50</td>\n",
       "      <td>0.0</td>\n",
       "    </tr>\n",
       "    <tr>\n",
       "      <th>1</th>\n",
       "      <td>-0.047619</td>\n",
       "      <td>0.571429</td>\n",
       "      <td>0.785714</td>\n",
       "      <td>-0.578947</td>\n",
       "      <td>0.333333</td>\n",
       "      <td>-0.25</td>\n",
       "      <td>0.0</td>\n",
       "    </tr>\n",
       "    <tr>\n",
       "      <th>2</th>\n",
       "      <td>-0.047619</td>\n",
       "      <td>0.142857</td>\n",
       "      <td>0.071429</td>\n",
       "      <td>-0.263158</td>\n",
       "      <td>0.166667</td>\n",
       "      <td>-0.25</td>\n",
       "      <td>0.0</td>\n",
       "    </tr>\n",
       "    <tr>\n",
       "      <th>3</th>\n",
       "      <td>1.571429</td>\n",
       "      <td>-0.428571</td>\n",
       "      <td>0.214286</td>\n",
       "      <td>-0.789474</td>\n",
       "      <td>-0.222222</td>\n",
       "      <td>-0.25</td>\n",
       "      <td>0.0</td>\n",
       "    </tr>\n",
       "    <tr>\n",
       "      <th>4</th>\n",
       "      <td>-0.238095</td>\n",
       "      <td>-0.428571</td>\n",
       "      <td>-0.214286</td>\n",
       "      <td>1.052632</td>\n",
       "      <td>-0.333333</td>\n",
       "      <td>-0.50</td>\n",
       "      <td>0.0</td>\n",
       "    </tr>\n",
       "  </tbody>\n",
       "</table>\n",
       "</div>"
      ],
      "text/plain": [
       "   fixed_acidity  residual_sugar  free_sulfur_dioxide        pH  sulphates  \\\n",
       "0      -0.238095       -0.428571            -0.214286  1.052632  -0.333333   \n",
       "1      -0.047619        0.571429             0.785714 -0.578947   0.333333   \n",
       "2      -0.047619        0.142857             0.071429 -0.263158   0.166667   \n",
       "3       1.571429       -0.428571             0.214286 -0.789474  -0.222222   \n",
       "4      -0.238095       -0.428571            -0.214286  1.052632  -0.333333   \n",
       "\n",
       "   alcohol  qual_bin  \n",
       "0    -0.50       0.0  \n",
       "1    -0.25       0.0  \n",
       "2    -0.25       0.0  \n",
       "3    -0.25       0.0  \n",
       "4    -0.50       0.0  "
      ]
     },
     "execution_count": 28,
     "metadata": {},
     "output_type": "execute_result"
    }
   ],
   "source": [
    "red_wine.head()"
   ]
  },
  {
   "cell_type": "code",
   "execution_count": 30,
   "metadata": {},
   "outputs": [
    {
     "data": {
      "text/html": [
       "<div>\n",
       "<style scoped>\n",
       "    .dataframe tbody tr th:only-of-type {\n",
       "        vertical-align: middle;\n",
       "    }\n",
       "\n",
       "    .dataframe tbody tr th {\n",
       "        vertical-align: top;\n",
       "    }\n",
       "\n",
       "    .dataframe thead th {\n",
       "        text-align: right;\n",
       "    }\n",
       "</style>\n",
       "<table border=\"1\" class=\"dataframe\">\n",
       "  <thead>\n",
       "    <tr style=\"text-align: right;\">\n",
       "      <th></th>\n",
       "      <th>fixed_acidity</th>\n",
       "      <th>volatile_acidity</th>\n",
       "      <th>citric_acid</th>\n",
       "      <th>residual_sugar</th>\n",
       "      <th>chlorides</th>\n",
       "      <th>free_sulfur_dioxide</th>\n",
       "      <th>total_sulfur_dioxide</th>\n",
       "      <th>pH</th>\n",
       "      <th>sulphates</th>\n",
       "      <th>alcohol</th>\n",
       "      <th>qual_bin</th>\n",
       "    </tr>\n",
       "  </thead>\n",
       "  <tbody>\n",
       "    <tr>\n",
       "      <th>0</th>\n",
       "      <td>0.2</td>\n",
       "      <td>0.090909</td>\n",
       "      <td>0.333333</td>\n",
       "      <td>1.890244</td>\n",
       "      <td>0.142857</td>\n",
       "      <td>0.478261</td>\n",
       "      <td>0.610169</td>\n",
       "      <td>-0.947368</td>\n",
       "      <td>-0.142857</td>\n",
       "      <td>-0.842105</td>\n",
       "      <td>0.0</td>\n",
       "    </tr>\n",
       "    <tr>\n",
       "      <th>1</th>\n",
       "      <td>-0.5</td>\n",
       "      <td>0.363636</td>\n",
       "      <td>0.166667</td>\n",
       "      <td>-0.439024</td>\n",
       "      <td>0.428571</td>\n",
       "      <td>-0.869565</td>\n",
       "      <td>-0.033898</td>\n",
       "      <td>0.631579</td>\n",
       "      <td>0.142857</td>\n",
       "      <td>-0.473684</td>\n",
       "      <td>0.0</td>\n",
       "    </tr>\n",
       "    <tr>\n",
       "      <th>2</th>\n",
       "      <td>1.3</td>\n",
       "      <td>0.181818</td>\n",
       "      <td>0.666667</td>\n",
       "      <td>0.207317</td>\n",
       "      <td>0.500000</td>\n",
       "      <td>-0.173913</td>\n",
       "      <td>-0.627119</td>\n",
       "      <td>0.421053</td>\n",
       "      <td>-0.214286</td>\n",
       "      <td>-0.157895</td>\n",
       "      <td>0.0</td>\n",
       "    </tr>\n",
       "    <tr>\n",
       "      <th>3</th>\n",
       "      <td>0.4</td>\n",
       "      <td>-0.272727</td>\n",
       "      <td>0.000000</td>\n",
       "      <td>0.402439</td>\n",
       "      <td>1.071429</td>\n",
       "      <td>0.565217</td>\n",
       "      <td>0.881356</td>\n",
       "      <td>0.052632</td>\n",
       "      <td>-0.500000</td>\n",
       "      <td>-0.263158</td>\n",
       "      <td>0.0</td>\n",
       "    </tr>\n",
       "    <tr>\n",
       "      <th>4</th>\n",
       "      <td>0.4</td>\n",
       "      <td>-0.272727</td>\n",
       "      <td>0.000000</td>\n",
       "      <td>0.402439</td>\n",
       "      <td>1.071429</td>\n",
       "      <td>0.565217</td>\n",
       "      <td>0.881356</td>\n",
       "      <td>0.052632</td>\n",
       "      <td>-0.500000</td>\n",
       "      <td>-0.263158</td>\n",
       "      <td>0.0</td>\n",
       "    </tr>\n",
       "  </tbody>\n",
       "</table>\n",
       "</div>"
      ],
      "text/plain": [
       "   fixed_acidity  volatile_acidity  citric_acid  residual_sugar  chlorides  \\\n",
       "0            0.2          0.090909     0.333333        1.890244   0.142857   \n",
       "1           -0.5          0.363636     0.166667       -0.439024   0.428571   \n",
       "2            1.3          0.181818     0.666667        0.207317   0.500000   \n",
       "3            0.4         -0.272727     0.000000        0.402439   1.071429   \n",
       "4            0.4         -0.272727     0.000000        0.402439   1.071429   \n",
       "\n",
       "   free_sulfur_dioxide  total_sulfur_dioxide        pH  sulphates   alcohol  \\\n",
       "0             0.478261              0.610169 -0.947368  -0.142857 -0.842105   \n",
       "1            -0.869565             -0.033898  0.631579   0.142857 -0.473684   \n",
       "2            -0.173913             -0.627119  0.421053  -0.214286 -0.157895   \n",
       "3             0.565217              0.881356  0.052632  -0.500000 -0.263158   \n",
       "4             0.565217              0.881356  0.052632  -0.500000 -0.263158   \n",
       "\n",
       "   qual_bin  \n",
       "0       0.0  \n",
       "1       0.0  \n",
       "2       0.0  \n",
       "3       0.0  \n",
       "4       0.0  "
      ]
     },
     "execution_count": 30,
     "metadata": {},
     "output_type": "execute_result"
    }
   ],
   "source": [
    "white_wine.head()"
   ]
  },
  {
   "cell_type": "code",
   "execution_count": 31,
   "metadata": {},
   "outputs": [],
   "source": [
    "red_X_train, red_X_test, red_y_train, red_y_test = train_test_split(red_wine.drop(columns='qual_bin'), \n",
    "                                                    red_wine.qual_bin, test_size=0.3, random_state=47, shuffle=True)\n",
    "white_X_train, white_X_test, white_y_train, white_y_test = train_test_split(white_wine.drop(columns='qual_bin'), \n",
    "                                                    white_wine.qual_bin, test_size=0.3, random_state=47, shuffle=True)"
   ]
  },
  {
   "cell_type": "code",
   "execution_count": 55,
   "metadata": {},
   "outputs": [
    {
     "data": {
      "text/plain": [
       "(1470, 10)"
      ]
     },
     "execution_count": 55,
     "metadata": {},
     "output_type": "execute_result"
    }
   ],
   "source": [
    "white_X_test.shape"
   ]
  },
  {
   "cell_type": "code",
   "execution_count": 32,
   "metadata": {},
   "outputs": [
    {
     "data": {
      "text/plain": [
       "Text(0.5, 0, 'Random Forest Feature Importance - Reds')"
      ]
     },
     "execution_count": 32,
     "metadata": {},
     "output_type": "execute_result"
    },
    {
     "data": {
      "image/png": "[encoded data removed]",
      "text/plain": [
       "<Figure size 432x288 with 1 Axes>"
      ]
     },
     "metadata": {
      "needs_background": "light"
     },
     "output_type": "display_data"
    }
   ],
   "source": [
    "rf = RandomForestRegressor(n_estimators=100)\n",
    "rf.fit(red_X_train, red_y_train)\n",
    "sorted_idx = rf.feature_importances_.argsort()\n",
    "plt.barh(red_wine.columns[sorted_idx], rf.feature_importances_[sorted_idx])\n",
    "plt.xlabel(\"Random Forest Feature Importance - Reds\")\n",
    "# High alcohol content, sulphates (anti_microbial) and lower volatile acidity (high=vinagar taste) appear to be the top three important features for red wine quality"
   ]
  },
  {
   "cell_type": "code",
   "execution_count": 33,
   "metadata": {},
   "outputs": [
    {
     "data": {
      "text/plain": [
       "Text(0.5, 0, 'Random Forest Feature Importance - Whites')"
      ]
     },
     "execution_count": 33,
     "metadata": {},
     "output_type": "execute_result"
    },
    {
     "data": {
      "image/png": "[encoded data removed]",
      "text/plain": [
       "<Figure size 432x288 with 1 Axes>"
      ]
     },
     "metadata": {
      "needs_background": "light"
     },
     "output_type": "display_data"
    }
   ],
   "source": [
    "rf = RandomForestRegressor(n_estimators=100)\n",
    "rf.fit(white_X_train, white_y_train)\n",
    "sorted_idx = rf.feature_importances_.argsort()\n",
    "plt.barh(white_wine.columns[sorted_idx], rf.feature_importances_[sorted_idx])\n",
    "plt.xlabel(\"Random Forest Feature Importance - Whites\")\n",
    "# High alcohol content, lower volatile acidity and higher residual sugar appear to be the top three important features for white wine quality"
   ]
  },
  {
   "cell_type": "code",
   "execution_count": 34,
   "metadata": {},
   "outputs": [
    {
     "name": "stdout",
     "output_type": "stream",
     "text": [
      "Decision Tree Classifier\n",
      "Red:  0.8729166666666667\n",
      "White:  0.845578231292517\n"
     ]
    }
   ],
   "source": [
    "#Apply Decision Tree model to the training data and score:\n",
    "red_model = DecisionTreeClassifier()\n",
    "red_model.fit(red_X_train, red_y_train)\n",
    "red_model_score = red_model.score(red_X_test, red_y_test)\n",
    "print('Decision Tree Classifier')\n",
    "print('Red: ', red_model_score)\n",
    "white_model = DecisionTreeClassifier()\n",
    "white_model.fit(white_X_train, white_y_train)\n",
    "white_model_score = white_model.score(white_X_test, white_y_test)\n",
    "print('White: ', white_model_score)"
   ]
  },
  {
   "cell_type": "code",
   "execution_count": 35,
   "metadata": {},
   "outputs": [
    {
     "name": "stdout",
     "output_type": "stream",
     "text": [
      "Red Confusion Matrix\n",
      "[[379  31]\n",
      " [ 30  40]]\n",
      "White Confusion Matrix\n",
      "[[1042  124]\n",
      " [ 103  201]]\n"
     ]
    }
   ],
   "source": [
    "#Predict using the model and create confusion matrix again:\n",
    "print('Red Confusion Matrix')\n",
    "red_y_pred = red_model.predict(red_X_test)\n",
    "print(confusion_matrix(red_y_test, red_y_pred))\n",
    "\n",
    "white_y_pred = white_model.predict(white_X_test)\n",
    "print('White Confusion Matrix')\n",
    "print(confusion_matrix(white_y_test, white_y_pred))"
   ]
  },
  {
   "cell_type": "code",
   "execution_count": 36,
   "metadata": {},
   "outputs": [
    {
     "name": "stdout",
     "output_type": "stream",
     "text": [
      "Random Forest Classifier\n",
      "Red:  0.8958333333333334\n",
      "White:  0.8755102040816326\n"
     ]
    }
   ],
   "source": [
    "#Apply Random Forest model to the training data and score:\n",
    "red_model = RandomForestClassifier()\n",
    "red_model.fit(red_X_train, red_y_train)\n",
    "red_model_score = red_model.score(red_X_test, red_y_test)\n",
    "print('Random Forest Classifier')\n",
    "print('Red: ', red_model_score)\n",
    "white_model = RandomForestClassifier()\n",
    "white_model.fit(white_X_train, white_y_train)\n",
    "white_model_score = white_model.score(white_X_test, white_y_test)\n",
    "print('White: ', white_model_score)"
   ]
  },
  {
   "cell_type": "code",
   "execution_count": 37,
   "metadata": {},
   "outputs": [
    {
     "name": "stdout",
     "output_type": "stream",
     "text": [
      "Red Confusion Matrix\n",
      "[[398  12]\n",
      " [ 38  32]]\n",
      "White Confusion Matrix\n",
      "[[1122   44]\n",
      " [ 139  165]]\n"
     ]
    }
   ],
   "source": [
    "#Predict using the model and score again:\n",
    "print('Red Confusion Matrix')\n",
    "red_y_pred = red_model.predict(red_X_test)\n",
    "print(confusion_matrix(red_y_test, red_y_pred))\n",
    "\n",
    "white_y_pred = white_model.predict(white_X_test)\n",
    "print('White Confusion Matrix')\n",
    "print(confusion_matrix(white_y_test, white_y_pred))"
   ]
  },
  {
   "cell_type": "code",
   "execution_count": 38,
   "metadata": {},
   "outputs": [
    {
     "name": "stdout",
     "output_type": "stream",
     "text": [
      "Gradient Boosting Classifier\n",
      "Red:  0.8770833333333333\n",
      "White:  0.8401360544217688\n"
     ]
    }
   ],
   "source": [
    "#Apply  Gradient Boosting Classifier model to the training data and score:\n",
    "red_model = GradientBoostingClassifier()\n",
    "red_model.fit(red_X_train, red_y_train)\n",
    "red_model_score = red_model.score(red_X_test, red_y_test)\n",
    "print('Gradient Boosting Classifier')\n",
    "print('Red: ', red_model_score)\n",
    "white_model = GradientBoostingClassifier()\n",
    "white_model.fit(white_X_train, white_y_train)\n",
    "white_model_score = white_model.score(white_X_test, white_y_test)\n",
    "print('White: ', white_model_score)"
   ]
  },
  {
   "cell_type": "code",
   "execution_count": 39,
   "metadata": {},
   "outputs": [
    {
     "name": "stdout",
     "output_type": "stream",
     "text": [
      "Red Confusion Matrix\n",
      "[[394  16]\n",
      " [ 43  27]]\n",
      "White Confusion Matrix\n",
      "[[1112   54]\n",
      " [ 181  123]]\n"
     ]
    }
   ],
   "source": [
    "#Predict using the model and score again:\n",
    "print('Red Confusion Matrix')\n",
    "red_y_pred = red_model.predict(red_X_test)\n",
    "print(confusion_matrix(red_y_test, red_y_pred))\n",
    "\n",
    "white_y_pred = white_model.predict(white_X_test)\n",
    "print('White Confusion Matrix')\n",
    "print(confusion_matrix(white_y_test, white_y_pred))"
   ]
  },
  {
   "cell_type": "code",
   "execution_count": 40,
   "metadata": {},
   "outputs": [
    {
     "name": "stdout",
     "output_type": "stream",
     "text": [
      "KNeighbors Classifier\n",
      "Red:  0.8645833333333334\n",
      "White:  0.8346938775510204\n"
     ]
    }
   ],
   "source": [
    "#Apply KNeighborsClassifier model to the training data and score:\n",
    "red_model = KNeighborsClassifier()\n",
    "red_model.fit(red_X_train, red_y_train)\n",
    "red_model_score = red_model.score(red_X_test, red_y_test)\n",
    "print('KNeighbors Classifier')\n",
    "print('Red: ', red_model_score)\n",
    "white_model = KNeighborsClassifier()\n",
    "white_model.fit(white_X_train, white_y_train)\n",
    "white_model_score = white_model.score(white_X_test, white_y_test)\n",
    "print('White: ', white_model_score)"
   ]
  },
  {
   "cell_type": "code",
   "execution_count": 41,
   "metadata": {},
   "outputs": [
    {
     "name": "stdout",
     "output_type": "stream",
     "text": [
      "Red Confusion Matrix\n",
      "[[390  20]\n",
      " [ 45  25]]\n",
      "White Confusion Matrix\n",
      "[[1073   93]\n",
      " [ 150  154]]\n"
     ]
    }
   ],
   "source": [
    "#Predict using the model and score again:\n",
    "print('Red Confusion Matrix')\n",
    "red_y_pred = red_model.predict(red_X_test)\n",
    "print(confusion_matrix(red_y_test, red_y_pred))\n",
    "\n",
    "white_y_pred = white_model.predict(white_X_test)\n",
    "print('White Confusion Matrix')\n",
    "print(confusion_matrix(white_y_test, white_y_pred))"
   ]
  },
  {
   "cell_type": "code",
   "execution_count": 42,
   "metadata": {},
   "outputs": [
    {
     "name": "stdout",
     "output_type": "stream",
     "text": [
      "GaussianNB Classifier\n",
      "Red:  0.8645833333333334\n",
      "White:  0.7551020408163265\n"
     ]
    }
   ],
   "source": [
    "#Apply GaussianNB model to the training data and score:\n",
    "red_model = GaussianNB()\n",
    "red_model.fit(red_X_train, red_y_train)\n",
    "red_model_score = red_model.score(red_X_test, red_y_test)\n",
    "print('GaussianNB Classifier')\n",
    "print('Red: ', red_model_score)\n",
    "white_model = GaussianNB()\n",
    "white_model.fit(white_X_train, white_y_train)\n",
    "white_model_score = white_model.score(white_X_test, white_y_test)\n",
    "print('White: ', white_model_score)"
   ]
  },
  {
   "cell_type": "code",
   "execution_count": 43,
   "metadata": {},
   "outputs": [
    {
     "name": "stdout",
     "output_type": "stream",
     "text": [
      "Red Confusion Matrix\n",
      "[[391  19]\n",
      " [ 46  24]]\n",
      "White Confusion Matrix\n",
      "[[898 268]\n",
      " [ 92 212]]\n"
     ]
    }
   ],
   "source": [
    "#Predict using the model and score again:\n",
    "print('Red Confusion Matrix')\n",
    "red_y_pred = red_model.predict(red_X_test)\n",
    "print(confusion_matrix(red_y_test, red_y_pred))\n",
    "\n",
    "white_y_pred = white_model.predict(white_X_test)\n",
    "print('White Confusion Matrix')\n",
    "print(confusion_matrix(white_y_test, white_y_pred))"
   ]
  },
  {
   "cell_type": "code",
   "execution_count": 44,
   "metadata": {},
   "outputs": [
    {
     "name": "stdout",
     "output_type": "stream",
     "text": [
      "SVC Classifier\n",
      "Red:  0.8520833333333333\n",
      "White:  0.8333333333333334\n"
     ]
    }
   ],
   "source": [
    "#Apply SVC model to the training data and score:\n",
    "red_model = SVC()\n",
    "red_model.fit(red_X_train, red_y_train)\n",
    "red_model_score = red_model.score(red_X_test, red_y_test)\n",
    "print('SVC Classifier')\n",
    "print('Red: ', red_model_score)\n",
    "white_model = SVC()\n",
    "white_model.fit(white_X_train, white_y_train)\n",
    "white_model_score = white_model.score(white_X_test, white_y_test)\n",
    "print('White: ', white_model_score)"
   ]
  },
  {
   "cell_type": "code",
   "execution_count": 45,
   "metadata": {},
   "outputs": [
    {
     "name": "stdout",
     "output_type": "stream",
     "text": [
      "Red Confusion Matrix\n",
      "[[404   6]\n",
      " [ 65   5]]\n",
      "White Confusion Matrix\n",
      "[[1129   37]\n",
      " [ 208   96]]\n"
     ]
    }
   ],
   "source": [
    "#Predict using the model and score again:\n",
    "print('Red Confusion Matrix')\n",
    "red_y_pred = red_model.predict(red_X_test)\n",
    "print(confusion_matrix(red_y_test, red_y_pred))\n",
    "\n",
    "white_y_pred = white_model.predict(white_X_test)\n",
    "print('White Confusion Matrix')\n",
    "print(confusion_matrix(white_y_test, white_y_pred))"
   ]
  },
  {
   "cell_type": "markdown",
   "metadata": {},
   "source": [
    "I applied different ML models above and evaluated their performance for both red and white wine test data and tabulated the scores and put them in a confusion matrix. The Random Forest model appears to be the best for both red and white wines. So, I will perform a gridsearch hyperparameter tuning for that model as well determine the ROC_AUC scores and ROC curve."
   ]
  },
  {
   "cell_type": "code",
   "execution_count": 46,
   "metadata": {},
   "outputs": [],
   "source": [
    "#build param grid features\n",
    "n_estimators = [int(x) for x in np.linspace(start = 10, stop = 80, num = 10)]\n",
    "max_features = ['auto', 'sqrt']\n",
    "max_depth = [2, 4]\n",
    "min_sample_split = [2, 5]\n",
    "min_sample_leaf = [1, 2]\n",
    "bootstrap = [True, False]"
   ]
  },
  {
   "cell_type": "code",
   "execution_count": 47,
   "metadata": {},
   "outputs": [
    {
     "name": "stdout",
     "output_type": "stream",
     "text": [
      "{'n_estimators': [10, 17, 25, 33, 41, 48, 56, 64, 72, 80], 'max_features': ['auto', 'sqrt'], 'max_depth': [2, 4], 'min_samples_split': [2, 5], 'min_samples_leaf': [1, 2], 'bootstrap': [True, False]}\n"
     ]
    }
   ],
   "source": [
    "param_grid = {'n_estimators' : n_estimators, \n",
    "              'max_features' : max_features, \n",
    "              'max_depth' : max_depth, \n",
    "              'min_samples_split' : min_sample_split, \n",
    "              'min_samples_leaf' : min_sample_leaf, \n",
    "              'bootstrap' : bootstrap}\n",
    "print(param_grid)"
   ]
  },
  {
   "cell_type": "code",
   "execution_count": 48,
   "metadata": {},
   "outputs": [
    {
     "name": "stdout",
     "output_type": "stream",
     "text": [
      "Red:\n",
      "RandomForestClassifier(max_depth=4, min_samples_leaf=2, min_samples_split=5,\n",
      "                       n_estimators=64)\n",
      "0.8286103751650291\n",
      "White:\n",
      "RandomForestClassifier(max_depth=4, min_samples_leaf=2, min_samples_split=5,\n",
      "                       n_estimators=64)\n",
      "0.8286103751650291\n"
     ]
    }
   ],
   "source": [
    "#GridSearchCV\n",
    "rf = RandomForestClassifier()\n",
    "gs = GridSearchCV(estimator = rf, param_grid = param_grid, scoring = 'roc_auc', cv = 3, n_jobs = 4)\n",
    "red_gs = gs.fit(red_X_train, red_y_train)\n",
    "white_gs = gs.fit(white_X_train, white_y_train)\n",
    "\n",
    "print('Red:')\n",
    "print(red_gs.best_estimator_)\n",
    "print(red_gs.best_score_)\n",
    "\n",
    "print('White:')\n",
    "print(white_gs.best_estimator_)\n",
    "print(white_gs.best_score_)\n"
   ]
  },
  {
   "cell_type": "code",
   "execution_count": 49,
   "metadata": {},
   "outputs": [
    {
     "name": "stdout",
     "output_type": "stream",
     "text": [
      "Red:\n",
      "Accuracy Score:  0.8729166666666667\n",
      "CV Score:  0.8680313588850174\n",
      " \n",
      "White:\n",
      "Accuracy Score:  0.8115646258503402\n",
      "CV Score:  0.8290011812547519\n"
     ]
    }
   ],
   "source": [
    "#Fitting the Random forest model with the optimal hyperparameters\n",
    "rf = RandomForestClassifier(n_estimators = 48, max_features = 'sqrt' , max_depth = 4, min_samples_split = 5, bootstrap = False)\n",
    "rf.fit(red_X_train, red_y_train)\n",
    "red_y_pred = rf.predict(red_X_test)\n",
    "red_acc = accuracy_score(red_y_test, red_y_pred)\n",
    "red_cv = cross_val_score(rf, red_X_test, red_y_test, scoring = 'roc_auc').mean()\n",
    "print('Red:')\n",
    "print(\"Accuracy Score: \", red_acc)\n",
    "print(\"CV Score: \", red_cv)\n",
    "print(\" \")\n",
    "print('White:')\n",
    "rf.fit(white_X_train, white_y_train)\n",
    "white_y_pred = rf.predict(white_X_test)\n",
    "white_acc = accuracy_score(white_y_test, white_y_pred)\n",
    "white_cv = cross_val_score(rf, white_X_test, white_y_test, scoring = 'roc_auc').mean()\n",
    "print(\"Accuracy Score: \", white_acc)\n",
    "print(\"CV Score: \", white_cv)"
   ]
  },
  {
   "cell_type": "code",
   "execution_count": null,
   "metadata": {},
   "outputs": [],
   "source": []
  },
  {
   "cell_type": "markdown",
   "metadata": {},
   "source": [
    "With wines, you want a high accuracy"
   ]
  },
  {
   "cell_type": "code",
   "execution_count": 50,
   "metadata": {},
   "outputs": [
    {
     "ename": "ValueError",
     "evalue": "Number of features of the model must match the input. Model n_features is 10 and input n_features is 6 ",
     "output_type": "error",
     "traceback": [
      "\u001b[1;31m---------------------------------------------------------------------------\u001b[0m",
      "\u001b[1;31mValueError\u001b[0m                                Traceback (most recent call last)",
      "\u001b[1;32m<ipython-input-50-0ba1e6657e13>\u001b[0m in \u001b[0;36m<module>\u001b[1;34m\u001b[0m\n\u001b[0;32m      1\u001b[0m \u001b[1;31m#ROC-AUC Score\u001b[0m\u001b[1;33m\u001b[0m\u001b[1;33m\u001b[0m\u001b[1;33m\u001b[0m\u001b[0m\n\u001b[1;32m----> 2\u001b[1;33m \u001b[0mred_y_scores_rf\u001b[0m \u001b[1;33m=\u001b[0m \u001b[0mrf\u001b[0m\u001b[1;33m.\u001b[0m\u001b[0mpredict_proba\u001b[0m\u001b[1;33m(\u001b[0m\u001b[0mred_X_test\u001b[0m\u001b[1;33m)\u001b[0m\u001b[1;33m\u001b[0m\u001b[1;33m\u001b[0m\u001b[0m\n\u001b[0m\u001b[0;32m      3\u001b[0m \u001b[0mred_y_scores_rf\u001b[0m \u001b[1;33m=\u001b[0m \u001b[0mred_y_scores_rf\u001b[0m\u001b[1;33m[\u001b[0m\u001b[1;33m:\u001b[0m\u001b[1;33m,\u001b[0m\u001b[1;36m1\u001b[0m\u001b[1;33m]\u001b[0m\u001b[1;33m\u001b[0m\u001b[1;33m\u001b[0m\u001b[0m\n\u001b[0;32m      4\u001b[0m \u001b[0mred_auroc\u001b[0m \u001b[1;33m=\u001b[0m \u001b[0mroc_auc_score\u001b[0m\u001b[1;33m(\u001b[0m\u001b[0mred_y_test\u001b[0m\u001b[1;33m,\u001b[0m \u001b[0mred_y_scores_rf\u001b[0m\u001b[1;33m)\u001b[0m\u001b[1;33m\u001b[0m\u001b[1;33m\u001b[0m\u001b[0m\n\u001b[0;32m      5\u001b[0m \u001b[0mprint\u001b[0m\u001b[1;33m(\u001b[0m\u001b[1;34m\"Red ROC-AUC Score:\"\u001b[0m\u001b[1;33m,\u001b[0m \u001b[0mred_auroc\u001b[0m\u001b[1;33m)\u001b[0m\u001b[1;33m\u001b[0m\u001b[1;33m\u001b[0m\u001b[0m\n",
      "\u001b[1;32m~\\anaconda3\\lib\\site-packages\\sklearn\\ensemble\\_forest.py\u001b[0m in \u001b[0;36mpredict_proba\u001b[1;34m(self, X)\u001b[0m\n\u001b[0;32m    671\u001b[0m         \u001b[0mcheck_is_fitted\u001b[0m\u001b[1;33m(\u001b[0m\u001b[0mself\u001b[0m\u001b[1;33m)\u001b[0m\u001b[1;33m\u001b[0m\u001b[1;33m\u001b[0m\u001b[0m\n\u001b[0;32m    672\u001b[0m         \u001b[1;31m# Check data\u001b[0m\u001b[1;33m\u001b[0m\u001b[1;33m\u001b[0m\u001b[1;33m\u001b[0m\u001b[0m\n\u001b[1;32m--> 673\u001b[1;33m         \u001b[0mX\u001b[0m \u001b[1;33m=\u001b[0m \u001b[0mself\u001b[0m\u001b[1;33m.\u001b[0m\u001b[0m_validate_X_predict\u001b[0m\u001b[1;33m(\u001b[0m\u001b[0mX\u001b[0m\u001b[1;33m)\u001b[0m\u001b[1;33m\u001b[0m\u001b[1;33m\u001b[0m\u001b[0m\n\u001b[0m\u001b[0;32m    674\u001b[0m \u001b[1;33m\u001b[0m\u001b[0m\n\u001b[0;32m    675\u001b[0m         \u001b[1;31m# Assign chunk of trees to jobs\u001b[0m\u001b[1;33m\u001b[0m\u001b[1;33m\u001b[0m\u001b[1;33m\u001b[0m\u001b[0m\n",
      "\u001b[1;32m~\\anaconda3\\lib\\site-packages\\sklearn\\ensemble\\_forest.py\u001b[0m in \u001b[0;36m_validate_X_predict\u001b[1;34m(self, X)\u001b[0m\n\u001b[0;32m    419\u001b[0m         \u001b[0mcheck_is_fitted\u001b[0m\u001b[1;33m(\u001b[0m\u001b[0mself\u001b[0m\u001b[1;33m)\u001b[0m\u001b[1;33m\u001b[0m\u001b[1;33m\u001b[0m\u001b[0m\n\u001b[0;32m    420\u001b[0m \u001b[1;33m\u001b[0m\u001b[0m\n\u001b[1;32m--> 421\u001b[1;33m         \u001b[1;32mreturn\u001b[0m \u001b[0mself\u001b[0m\u001b[1;33m.\u001b[0m\u001b[0mestimators_\u001b[0m\u001b[1;33m[\u001b[0m\u001b[1;36m0\u001b[0m\u001b[1;33m]\u001b[0m\u001b[1;33m.\u001b[0m\u001b[0m_validate_X_predict\u001b[0m\u001b[1;33m(\u001b[0m\u001b[0mX\u001b[0m\u001b[1;33m,\u001b[0m \u001b[0mcheck_input\u001b[0m\u001b[1;33m=\u001b[0m\u001b[1;32mTrue\u001b[0m\u001b[1;33m)\u001b[0m\u001b[1;33m\u001b[0m\u001b[1;33m\u001b[0m\u001b[0m\n\u001b[0m\u001b[0;32m    422\u001b[0m \u001b[1;33m\u001b[0m\u001b[0m\n\u001b[0;32m    423\u001b[0m     \u001b[1;33m@\u001b[0m\u001b[0mproperty\u001b[0m\u001b[1;33m\u001b[0m\u001b[1;33m\u001b[0m\u001b[0m\n",
      "\u001b[1;32m~\\anaconda3\\lib\\site-packages\\sklearn\\tree\\_classes.py\u001b[0m in \u001b[0;36m_validate_X_predict\u001b[1;34m(self, X, check_input)\u001b[0m\n\u001b[0;32m    394\u001b[0m         \u001b[0mn_features\u001b[0m \u001b[1;33m=\u001b[0m \u001b[0mX\u001b[0m\u001b[1;33m.\u001b[0m\u001b[0mshape\u001b[0m\u001b[1;33m[\u001b[0m\u001b[1;36m1\u001b[0m\u001b[1;33m]\u001b[0m\u001b[1;33m\u001b[0m\u001b[1;33m\u001b[0m\u001b[0m\n\u001b[0;32m    395\u001b[0m         \u001b[1;32mif\u001b[0m \u001b[0mself\u001b[0m\u001b[1;33m.\u001b[0m\u001b[0mn_features_\u001b[0m \u001b[1;33m!=\u001b[0m \u001b[0mn_features\u001b[0m\u001b[1;33m:\u001b[0m\u001b[1;33m\u001b[0m\u001b[1;33m\u001b[0m\u001b[0m\n\u001b[1;32m--> 396\u001b[1;33m             raise ValueError(\"Number of features of the model must \"\n\u001b[0m\u001b[0;32m    397\u001b[0m                              \u001b[1;34m\"match the input. Model n_features is %s and \"\u001b[0m\u001b[1;33m\u001b[0m\u001b[1;33m\u001b[0m\u001b[0m\n\u001b[0;32m    398\u001b[0m                              \u001b[1;34m\"input n_features is %s \"\u001b[0m\u001b[1;33m\u001b[0m\u001b[1;33m\u001b[0m\u001b[0m\n",
      "\u001b[1;31mValueError\u001b[0m: Number of features of the model must match the input. Model n_features is 10 and input n_features is 6 "
     ]
    }
   ],
   "source": [
    "#ROC-AUC Score\n",
    "red_y_scores_rf = rf.predict_proba(red_X_test)\n",
    "red_y_scores_rf = red_y_scores_rf[:,1]\n",
    "red_auroc = roc_auc_score(red_y_test, red_y_scores_rf)\n",
    "print(\"Red ROC-AUC Score:\", red_auroc)\n",
    "\n",
    "white_y_scores_rf = rf.predict_proba(white_X_test)\n",
    "white_y_scores_rf = white_y_scores_rf[:,1]\n",
    "white_auroc = roc_auc_score(white_y_test, white_y_scores_rf)\n",
    "print(\"White ROC-AUC Score:\", white_auroc)"
   ]
  },
  {
   "cell_type": "code",
   "execution_count": 56,
   "metadata": {},
   "outputs": [
    {
     "ename": "NameError",
     "evalue": "name 'red_y_scores_rf' is not defined",
     "output_type": "error",
     "traceback": [
      "\u001b[1;31m---------------------------------------------------------------------------\u001b[0m",
      "\u001b[1;31mNameError\u001b[0m                                 Traceback (most recent call last)",
      "\u001b[1;32m<ipython-input-56-717bc5d128ac>\u001b[0m in \u001b[0;36m<module>\u001b[1;34m\u001b[0m\n\u001b[1;32m----> 1\u001b[1;33m \u001b[0mfalse_positive_rate\u001b[0m\u001b[1;33m,\u001b[0m \u001b[0mtrue_positive_rate\u001b[0m\u001b[1;33m,\u001b[0m \u001b[0mthresholds\u001b[0m \u001b[1;33m=\u001b[0m \u001b[0mroc_curve\u001b[0m\u001b[1;33m(\u001b[0m\u001b[0mred_y_test\u001b[0m\u001b[1;33m,\u001b[0m \u001b[0mred_y_scores_rf\u001b[0m\u001b[1;33m)\u001b[0m\u001b[1;33m\u001b[0m\u001b[1;33m\u001b[0m\u001b[0m\n\u001b[0m\u001b[0;32m      2\u001b[0m \u001b[1;32mdef\u001b[0m \u001b[0mplot_roc_curve\u001b[0m\u001b[1;33m(\u001b[0m\u001b[0mfalse_positive_rate\u001b[0m\u001b[1;33m,\u001b[0m \u001b[0mtrue_positive_rate\u001b[0m\u001b[1;33m,\u001b[0m \u001b[0mlabel\u001b[0m\u001b[1;33m=\u001b[0m\u001b[1;32mNone\u001b[0m\u001b[1;33m)\u001b[0m\u001b[1;33m:\u001b[0m\u001b[1;33m\u001b[0m\u001b[1;33m\u001b[0m\u001b[0m\n\u001b[0;32m      3\u001b[0m     \u001b[0mplt\u001b[0m\u001b[1;33m.\u001b[0m\u001b[0mplot\u001b[0m\u001b[1;33m(\u001b[0m\u001b[0mfalse_positive_rate\u001b[0m\u001b[1;33m,\u001b[0m \u001b[0mtrue_positive_rate\u001b[0m\u001b[1;33m,\u001b[0m \u001b[0mlinewidth\u001b[0m\u001b[1;33m=\u001b[0m\u001b[1;36m2\u001b[0m\u001b[1;33m,\u001b[0m \u001b[0mlabel\u001b[0m\u001b[1;33m=\u001b[0m\u001b[0mlabel\u001b[0m\u001b[1;33m)\u001b[0m\u001b[1;33m\u001b[0m\u001b[1;33m\u001b[0m\u001b[0m\n\u001b[0;32m      4\u001b[0m     \u001b[0mplt\u001b[0m\u001b[1;33m.\u001b[0m\u001b[0mplot\u001b[0m\u001b[1;33m(\u001b[0m\u001b[1;33m[\u001b[0m\u001b[1;36m0\u001b[0m\u001b[1;33m,\u001b[0m \u001b[1;36m1\u001b[0m\u001b[1;33m]\u001b[0m\u001b[1;33m,\u001b[0m \u001b[1;33m[\u001b[0m\u001b[1;36m0\u001b[0m\u001b[1;33m,\u001b[0m \u001b[1;36m1\u001b[0m\u001b[1;33m]\u001b[0m\u001b[1;33m,\u001b[0m \u001b[1;34m'r'\u001b[0m\u001b[1;33m,\u001b[0m \u001b[0mlinewidth\u001b[0m\u001b[1;33m=\u001b[0m\u001b[1;36m4\u001b[0m\u001b[1;33m)\u001b[0m\u001b[1;33m\u001b[0m\u001b[1;33m\u001b[0m\u001b[0m\n\u001b[0;32m      5\u001b[0m     \u001b[0mplt\u001b[0m\u001b[1;33m.\u001b[0m\u001b[0maxis\u001b[0m\u001b[1;33m(\u001b[0m\u001b[1;33m[\u001b[0m\u001b[1;36m0\u001b[0m\u001b[1;33m,\u001b[0m \u001b[1;36m1\u001b[0m\u001b[1;33m,\u001b[0m \u001b[1;36m0\u001b[0m\u001b[1;33m,\u001b[0m \u001b[1;36m1\u001b[0m\u001b[1;33m]\u001b[0m\u001b[1;33m)\u001b[0m\u001b[1;33m\u001b[0m\u001b[1;33m\u001b[0m\u001b[0m\n",
      "\u001b[1;31mNameError\u001b[0m: name 'red_y_scores_rf' is not defined"
     ]
    }
   ],
   "source": [
    "false_positive_rate, true_positive_rate, thresholds = roc_curve(red_y_test, red_y_scores_rf)\n",
    "def plot_roc_curve(false_positive_rate, true_positive_rate, label=None):\n",
    "    plt.plot(false_positive_rate, true_positive_rate, linewidth=2, label=label)\n",
    "    plt.plot([0, 1], [0, 1], 'r', linewidth=4)\n",
    "    plt.axis([0, 1, 0, 1])\n",
    "    plt.xlabel('False Positive Rate (FPR)', fontsize=15)\n",
    "    plt.ylabel('True Positive Rate (TPR)', fontsize=15)\n",
    "    plt.title('ROC curve (RF)',fontsize=15)\n",
    "\n",
    "print('Red wine')\n",
    "plt.figure(figsize=(10, 5))\n",
    "plot_roc_curve(false_positive_rate, true_positive_rate)\n",
    "plt.savefig(\"red_roc_curve_RF.jpg\")\n",
    "plt.show()\n",
    "# TPR starts leveling off around .3 FPR"
   ]
  },
  {
   "cell_type": "code",
   "execution_count": null,
   "metadata": {},
   "outputs": [],
   "source": [
    "false_positive_rate, true_positive_rate, thresholds = roc_curve(white_y_test, white_y_scores_rf)\n",
    "print('White wine')\n",
    "plt.figure(figsize=(10, 5))\n",
    "plot_roc_curve(false_positive_rate, true_positive_rate)\n",
    "plt.savefig(\"white_roc_curve_RF.jpg\")\n",
    "plt.show()\n",
    "# TPR starts leveling off around .2 FPR"
   ]
  },
  {
   "cell_type": "code",
   "execution_count": 57,
   "metadata": {},
   "outputs": [
    {
     "name": "stdout",
     "output_type": "stream",
     "text": [
      "Red: \n",
      "              precision    recall  f1-score   support\n",
      "\n",
      "         0.0       0.88      0.99      0.93       410\n",
      "         1.0       0.76      0.19      0.30        70\n",
      "\n",
      "    accuracy                           0.87       480\n",
      "   macro avg       0.82      0.59      0.61       480\n",
      "weighted avg       0.86      0.87      0.84       480\n",
      "\n",
      " \n",
      "White: \n",
      "              precision    recall  f1-score   support\n",
      "\n",
      "         0.0       0.82      0.99      0.89      1166\n",
      "         1.0       0.72      0.14      0.24       304\n",
      "\n",
      "    accuracy                           0.81      1470\n",
      "   macro avg       0.77      0.57      0.57      1470\n",
      "weighted avg       0.80      0.81      0.76      1470\n",
      "\n"
     ]
    }
   ],
   "source": [
    "# Classification Reports\n",
    "print(\"Red: \")\n",
    "print(classification_report(red_y_test, red_y_pred))\n",
    "print(\" \")\n",
    "print(\"White: \")\n",
    "print(classification_report(white_y_test, white_y_pred))"
   ]
  },
  {
   "cell_type": "code",
   "execution_count": null,
   "metadata": {},
   "outputs": [],
   "source": []
  }
 ],
 "metadata": {
  "kernelspec": {
   "display_name": "Python 3",
   "language": "python",
   "name": "python3"
  },
  "language_info": {
   "codemirror_mode": {
    "name": "ipython",
    "version": 3
   },
   "file_extension": ".py",
   "mimetype": "text/x-python",
   "name": "python",
   "nbconvert_exporter": "python",
   "pygments_lexer": "ipython3",
   "version": "3.8.5"
  }
 },
 "nbformat": 4,
 "nbformat_minor": 4
}

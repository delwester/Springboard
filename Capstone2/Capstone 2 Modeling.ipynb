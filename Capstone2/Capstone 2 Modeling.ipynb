{
 "cells": [
  {
   "cell_type": "code",
   "execution_count": 40,
   "metadata": {},
   "outputs": [],
   "source": [
    "#Import packages:\n",
    "import os\n",
    "import pandas as pd\n",
    "from datetime import datetime,timedelta\n",
    "import seaborn as sns\n",
    "import matplotlib.pyplot as plt\n",
    "import numpy as np\n",
    "from sklearn.preprocessing import RobustScaler\n",
    "from sklearn.linear_model import LogisticRegression\n",
    "from sklearn.model_selection import train_test_split, cross_val_score, GridSearchCV, validation_curve, StratifiedShuffleSplit\n",
    "from sklearn.neighbors import KNeighborsClassifier\n",
    "from sklearn.svm import SVC\n",
    "from sklearn.ensemble import GradientBoostingClassifier, RandomForestClassifier, RandomForestRegressor\n",
    "from sklearn.tree import DecisionTreeClassifier\n",
    "from sklearn.naive_bayes import GaussianNB\n",
    "from sklearn.metrics import auc, roc_curve, roc_auc_score, accuracy_score, confusion_matrix, r2_score, classification_report\n",
    "from sklearn.datasets import make_classification \n",
    "from sklearn.inspection import permutation_importance\n"
   ]
  },
  {
   "cell_type": "code",
   "execution_count": 7,
   "metadata": {},
   "outputs": [],
   "source": [
    "#import data\n",
    "redimportedData ='red_wine_scaled.csv'\n",
    "red_wine = pd.read_csv(redimportedData, index_col = False)\n",
    "whiteimportedData ='white_wine_scaled.csv'\n",
    "white_wine = pd.read_csv(whiteimportedData, index_col = False)"
   ]
  },
  {
   "cell_type": "code",
   "execution_count": 8,
   "metadata": {},
   "outputs": [
    {
     "data": {
      "text/html": [
       "<div>\n",
       "<style scoped>\n",
       "    .dataframe tbody tr th:only-of-type {\n",
       "        vertical-align: middle;\n",
       "    }\n",
       "\n",
       "    .dataframe tbody tr th {\n",
       "        vertical-align: top;\n",
       "    }\n",
       "\n",
       "    .dataframe thead th {\n",
       "        text-align: right;\n",
       "    }\n",
       "</style>\n",
       "<table border=\"1\" class=\"dataframe\">\n",
       "  <thead>\n",
       "    <tr style=\"text-align: right;\">\n",
       "      <th></th>\n",
       "      <th>Unnamed: 0</th>\n",
       "      <th>Unnamed: 0.1</th>\n",
       "      <th>fixed_acidity</th>\n",
       "      <th>volatile_acidity</th>\n",
       "      <th>citric_acid</th>\n",
       "      <th>residual_sugar</th>\n",
       "      <th>chlorides</th>\n",
       "      <th>free_sulfur_dioxide</th>\n",
       "      <th>total_sulfur_dioxide</th>\n",
       "      <th>density</th>\n",
       "      <th>pH</th>\n",
       "      <th>sulphates</th>\n",
       "      <th>alcohol</th>\n",
       "      <th>qual_bin</th>\n",
       "    </tr>\n",
       "  </thead>\n",
       "  <tbody>\n",
       "    <tr>\n",
       "      <th>0</th>\n",
       "      <td>0</td>\n",
       "      <td>0</td>\n",
       "      <td>7.4</td>\n",
       "      <td>0.70</td>\n",
       "      <td>0.00</td>\n",
       "      <td>1.9</td>\n",
       "      <td>0.076</td>\n",
       "      <td>11.0</td>\n",
       "      <td>34.0</td>\n",
       "      <td>0.9978</td>\n",
       "      <td>3.51</td>\n",
       "      <td>0.56</td>\n",
       "      <td>9.4</td>\n",
       "      <td>0</td>\n",
       "    </tr>\n",
       "    <tr>\n",
       "      <th>1</th>\n",
       "      <td>1</td>\n",
       "      <td>1</td>\n",
       "      <td>7.8</td>\n",
       "      <td>0.88</td>\n",
       "      <td>0.00</td>\n",
       "      <td>2.6</td>\n",
       "      <td>0.098</td>\n",
       "      <td>25.0</td>\n",
       "      <td>67.0</td>\n",
       "      <td>0.9968</td>\n",
       "      <td>3.20</td>\n",
       "      <td>0.68</td>\n",
       "      <td>9.8</td>\n",
       "      <td>0</td>\n",
       "    </tr>\n",
       "    <tr>\n",
       "      <th>2</th>\n",
       "      <td>2</td>\n",
       "      <td>2</td>\n",
       "      <td>7.8</td>\n",
       "      <td>0.76</td>\n",
       "      <td>0.04</td>\n",
       "      <td>2.3</td>\n",
       "      <td>0.092</td>\n",
       "      <td>15.0</td>\n",
       "      <td>54.0</td>\n",
       "      <td>0.9970</td>\n",
       "      <td>3.26</td>\n",
       "      <td>0.65</td>\n",
       "      <td>9.8</td>\n",
       "      <td>0</td>\n",
       "    </tr>\n",
       "    <tr>\n",
       "      <th>3</th>\n",
       "      <td>3</td>\n",
       "      <td>3</td>\n",
       "      <td>11.2</td>\n",
       "      <td>0.28</td>\n",
       "      <td>0.56</td>\n",
       "      <td>1.9</td>\n",
       "      <td>0.075</td>\n",
       "      <td>17.0</td>\n",
       "      <td>60.0</td>\n",
       "      <td>0.9980</td>\n",
       "      <td>3.16</td>\n",
       "      <td>0.58</td>\n",
       "      <td>9.8</td>\n",
       "      <td>0</td>\n",
       "    </tr>\n",
       "    <tr>\n",
       "      <th>4</th>\n",
       "      <td>4</td>\n",
       "      <td>4</td>\n",
       "      <td>7.4</td>\n",
       "      <td>0.70</td>\n",
       "      <td>0.00</td>\n",
       "      <td>1.9</td>\n",
       "      <td>0.076</td>\n",
       "      <td>11.0</td>\n",
       "      <td>34.0</td>\n",
       "      <td>0.9978</td>\n",
       "      <td>3.51</td>\n",
       "      <td>0.56</td>\n",
       "      <td>9.4</td>\n",
       "      <td>0</td>\n",
       "    </tr>\n",
       "  </tbody>\n",
       "</table>\n",
       "</div>"
      ],
      "text/plain": [
       "   Unnamed: 0  Unnamed: 0.1  fixed_acidity  volatile_acidity  citric_acid  \\\n",
       "0           0             0            7.4              0.70         0.00   \n",
       "1           1             1            7.8              0.88         0.00   \n",
       "2           2             2            7.8              0.76         0.04   \n",
       "3           3             3           11.2              0.28         0.56   \n",
       "4           4             4            7.4              0.70         0.00   \n",
       "\n",
       "   residual_sugar  chlorides  free_sulfur_dioxide  total_sulfur_dioxide  \\\n",
       "0             1.9      0.076                 11.0                  34.0   \n",
       "1             2.6      0.098                 25.0                  67.0   \n",
       "2             2.3      0.092                 15.0                  54.0   \n",
       "3             1.9      0.075                 17.0                  60.0   \n",
       "4             1.9      0.076                 11.0                  34.0   \n",
       "\n",
       "   density    pH  sulphates  alcohol  qual_bin  \n",
       "0   0.9978  3.51       0.56      9.4         0  \n",
       "1   0.9968  3.20       0.68      9.8         0  \n",
       "2   0.9970  3.26       0.65      9.8         0  \n",
       "3   0.9980  3.16       0.58      9.8         0  \n",
       "4   0.9978  3.51       0.56      9.4         0  "
      ]
     },
     "execution_count": 8,
     "metadata": {},
     "output_type": "execute_result"
    }
   ],
   "source": [
    "red_wine.head()"
   ]
  },
  {
   "cell_type": "code",
   "execution_count": 9,
   "metadata": {},
   "outputs": [
    {
     "data": {
      "text/html": [
       "<div>\n",
       "<style scoped>\n",
       "    .dataframe tbody tr th:only-of-type {\n",
       "        vertical-align: middle;\n",
       "    }\n",
       "\n",
       "    .dataframe tbody tr th {\n",
       "        vertical-align: top;\n",
       "    }\n",
       "\n",
       "    .dataframe thead th {\n",
       "        text-align: right;\n",
       "    }\n",
       "</style>\n",
       "<table border=\"1\" class=\"dataframe\">\n",
       "  <thead>\n",
       "    <tr style=\"text-align: right;\">\n",
       "      <th></th>\n",
       "      <th>Unnamed: 0</th>\n",
       "      <th>Unnamed: 0.1</th>\n",
       "      <th>fixed_acidity</th>\n",
       "      <th>volatile_acidity</th>\n",
       "      <th>citric_acid</th>\n",
       "      <th>residual_sugar</th>\n",
       "      <th>chlorides</th>\n",
       "      <th>free_sulfur_dioxide</th>\n",
       "      <th>total_sulfur_dioxide</th>\n",
       "      <th>density</th>\n",
       "      <th>pH</th>\n",
       "      <th>sulphates</th>\n",
       "      <th>alcohol</th>\n",
       "      <th>qual_bin</th>\n",
       "    </tr>\n",
       "  </thead>\n",
       "  <tbody>\n",
       "    <tr>\n",
       "      <th>0</th>\n",
       "      <td>0</td>\n",
       "      <td>1599</td>\n",
       "      <td>7.0</td>\n",
       "      <td>0.27</td>\n",
       "      <td>0.36</td>\n",
       "      <td>20.7</td>\n",
       "      <td>0.045</td>\n",
       "      <td>45.0</td>\n",
       "      <td>170.0</td>\n",
       "      <td>1.0010</td>\n",
       "      <td>3.00</td>\n",
       "      <td>0.45</td>\n",
       "      <td>8.8</td>\n",
       "      <td>0</td>\n",
       "    </tr>\n",
       "    <tr>\n",
       "      <th>1</th>\n",
       "      <td>1</td>\n",
       "      <td>1600</td>\n",
       "      <td>6.3</td>\n",
       "      <td>0.30</td>\n",
       "      <td>0.34</td>\n",
       "      <td>1.6</td>\n",
       "      <td>0.049</td>\n",
       "      <td>14.0</td>\n",
       "      <td>132.0</td>\n",
       "      <td>0.9940</td>\n",
       "      <td>3.30</td>\n",
       "      <td>0.49</td>\n",
       "      <td>9.5</td>\n",
       "      <td>0</td>\n",
       "    </tr>\n",
       "    <tr>\n",
       "      <th>2</th>\n",
       "      <td>2</td>\n",
       "      <td>1601</td>\n",
       "      <td>8.1</td>\n",
       "      <td>0.28</td>\n",
       "      <td>0.40</td>\n",
       "      <td>6.9</td>\n",
       "      <td>0.050</td>\n",
       "      <td>30.0</td>\n",
       "      <td>97.0</td>\n",
       "      <td>0.9951</td>\n",
       "      <td>3.26</td>\n",
       "      <td>0.44</td>\n",
       "      <td>10.1</td>\n",
       "      <td>0</td>\n",
       "    </tr>\n",
       "    <tr>\n",
       "      <th>3</th>\n",
       "      <td>3</td>\n",
       "      <td>1602</td>\n",
       "      <td>7.2</td>\n",
       "      <td>0.23</td>\n",
       "      <td>0.32</td>\n",
       "      <td>8.5</td>\n",
       "      <td>0.058</td>\n",
       "      <td>47.0</td>\n",
       "      <td>186.0</td>\n",
       "      <td>0.9956</td>\n",
       "      <td>3.19</td>\n",
       "      <td>0.40</td>\n",
       "      <td>9.9</td>\n",
       "      <td>0</td>\n",
       "    </tr>\n",
       "    <tr>\n",
       "      <th>4</th>\n",
       "      <td>4</td>\n",
       "      <td>1603</td>\n",
       "      <td>7.2</td>\n",
       "      <td>0.23</td>\n",
       "      <td>0.32</td>\n",
       "      <td>8.5</td>\n",
       "      <td>0.058</td>\n",
       "      <td>47.0</td>\n",
       "      <td>186.0</td>\n",
       "      <td>0.9956</td>\n",
       "      <td>3.19</td>\n",
       "      <td>0.40</td>\n",
       "      <td>9.9</td>\n",
       "      <td>0</td>\n",
       "    </tr>\n",
       "  </tbody>\n",
       "</table>\n",
       "</div>"
      ],
      "text/plain": [
       "   Unnamed: 0  Unnamed: 0.1  fixed_acidity  volatile_acidity  citric_acid  \\\n",
       "0           0          1599            7.0              0.27         0.36   \n",
       "1           1          1600            6.3              0.30         0.34   \n",
       "2           2          1601            8.1              0.28         0.40   \n",
       "3           3          1602            7.2              0.23         0.32   \n",
       "4           4          1603            7.2              0.23         0.32   \n",
       "\n",
       "   residual_sugar  chlorides  free_sulfur_dioxide  total_sulfur_dioxide  \\\n",
       "0            20.7      0.045                 45.0                 170.0   \n",
       "1             1.6      0.049                 14.0                 132.0   \n",
       "2             6.9      0.050                 30.0                  97.0   \n",
       "3             8.5      0.058                 47.0                 186.0   \n",
       "4             8.5      0.058                 47.0                 186.0   \n",
       "\n",
       "   density    pH  sulphates  alcohol  qual_bin  \n",
       "0   1.0010  3.00       0.45      8.8         0  \n",
       "1   0.9940  3.30       0.49      9.5         0  \n",
       "2   0.9951  3.26       0.44     10.1         0  \n",
       "3   0.9956  3.19       0.40      9.9         0  \n",
       "4   0.9956  3.19       0.40      9.9         0  "
      ]
     },
     "execution_count": 9,
     "metadata": {},
     "output_type": "execute_result"
    }
   ],
   "source": [
    "white_wine.head()"
   ]
  },
  {
   "cell_type": "code",
   "execution_count": 10,
   "metadata": {},
   "outputs": [
    {
     "name": "stdout",
     "output_type": "stream",
     "text": [
      "Red Wines\n"
     ]
    },
    {
     "data": {
      "image/png": "[encoded data removed]",
      "text/plain": [
       "<Figure size 432x288 with 1 Axes>"
      ]
     },
     "metadata": {
      "needs_background": "light"
     },
     "output_type": "display_data"
    }
   ],
   "source": [
    "# What % of each wine type is considered high quality (7\n",
    "print(\"Red Wines\")\n",
    "sns.countplot(data = red_wine, x = 'qual_bin')\n",
    "plt.title('Quality Count Plot')\n",
    "plt.show()\n",
    "# approx 15% of red wines are high grade"
   ]
  },
  {
   "cell_type": "code",
   "execution_count": 11,
   "metadata": {},
   "outputs": [
    {
     "name": "stdout",
     "output_type": "stream",
     "text": [
      "White Wines\n"
     ]
    },
    {
     "data": {
      "image/png": "[encoded data removed]",
      "text/plain": [
       "<Figure size 432x288 with 1 Axes>"
      ]
     },
     "metadata": {
      "needs_background": "light"
     },
     "output_type": "display_data"
    }
   ],
   "source": [
    "print(\"White Wines\")\n",
    "sns.countplot(data = white_wine, x = 'qual_bin')\n",
    "plt.title('Quality Count Plot')\n",
    "plt.show()\n",
    "# approx 25% of white wines are high grade"
   ]
  },
  {
   "cell_type": "code",
   "execution_count": 12,
   "metadata": {},
   "outputs": [],
   "source": [
    "# what levels of each feature are in high quality wines? \n",
    "high_red_wine = red_wine[red_wine.qual_bin == 1]\n",
    "high_white_wine = white_wine[white_wine.qual_bin == 1]"
   ]
  },
  {
   "cell_type": "code",
   "execution_count": 13,
   "metadata": {},
   "outputs": [
    {
     "data": {
      "text/html": [
       "<div>\n",
       "<style scoped>\n",
       "    .dataframe tbody tr th:only-of-type {\n",
       "        vertical-align: middle;\n",
       "    }\n",
       "\n",
       "    .dataframe tbody tr th {\n",
       "        vertical-align: top;\n",
       "    }\n",
       "\n",
       "    .dataframe thead th {\n",
       "        text-align: right;\n",
       "    }\n",
       "</style>\n",
       "<table border=\"1\" class=\"dataframe\">\n",
       "  <thead>\n",
       "    <tr style=\"text-align: right;\">\n",
       "      <th></th>\n",
       "      <th>Unnamed: 0</th>\n",
       "      <th>Unnamed: 0.1</th>\n",
       "      <th>fixed_acidity</th>\n",
       "      <th>volatile_acidity</th>\n",
       "      <th>citric_acid</th>\n",
       "      <th>residual_sugar</th>\n",
       "      <th>chlorides</th>\n",
       "      <th>free_sulfur_dioxide</th>\n",
       "      <th>total_sulfur_dioxide</th>\n",
       "      <th>density</th>\n",
       "      <th>pH</th>\n",
       "      <th>sulphates</th>\n",
       "      <th>alcohol</th>\n",
       "      <th>qual_bin</th>\n",
       "    </tr>\n",
       "  </thead>\n",
       "  <tbody>\n",
       "    <tr>\n",
       "      <th>count</th>\n",
       "      <td>217.000000</td>\n",
       "      <td>217.000000</td>\n",
       "      <td>217.000000</td>\n",
       "      <td>217.000000</td>\n",
       "      <td>217.000000</td>\n",
       "      <td>217.000000</td>\n",
       "      <td>217.000000</td>\n",
       "      <td>217.000000</td>\n",
       "      <td>217.000000</td>\n",
       "      <td>217.000000</td>\n",
       "      <td>217.000000</td>\n",
       "      <td>217.000000</td>\n",
       "      <td>217.000000</td>\n",
       "      <td>217.0</td>\n",
       "    </tr>\n",
       "    <tr>\n",
       "      <th>mean</th>\n",
       "      <td>830.714286</td>\n",
       "      <td>830.714286</td>\n",
       "      <td>8.847005</td>\n",
       "      <td>0.405530</td>\n",
       "      <td>0.376498</td>\n",
       "      <td>2.708756</td>\n",
       "      <td>0.075912</td>\n",
       "      <td>13.981567</td>\n",
       "      <td>34.889401</td>\n",
       "      <td>0.996030</td>\n",
       "      <td>3.288802</td>\n",
       "      <td>0.743456</td>\n",
       "      <td>11.518049</td>\n",
       "      <td>1.0</td>\n",
       "    </tr>\n",
       "    <tr>\n",
       "      <th>std</th>\n",
       "      <td>389.737485</td>\n",
       "      <td>389.737485</td>\n",
       "      <td>1.999977</td>\n",
       "      <td>0.144963</td>\n",
       "      <td>0.194438</td>\n",
       "      <td>1.363026</td>\n",
       "      <td>0.028480</td>\n",
       "      <td>10.234615</td>\n",
       "      <td>32.572238</td>\n",
       "      <td>0.002201</td>\n",
       "      <td>0.154478</td>\n",
       "      <td>0.134038</td>\n",
       "      <td>0.998153</td>\n",
       "      <td>0.0</td>\n",
       "    </tr>\n",
       "    <tr>\n",
       "      <th>min</th>\n",
       "      <td>7.000000</td>\n",
       "      <td>7.000000</td>\n",
       "      <td>4.900000</td>\n",
       "      <td>0.120000</td>\n",
       "      <td>0.000000</td>\n",
       "      <td>1.200000</td>\n",
       "      <td>0.012000</td>\n",
       "      <td>3.000000</td>\n",
       "      <td>7.000000</td>\n",
       "      <td>0.990640</td>\n",
       "      <td>2.880000</td>\n",
       "      <td>0.390000</td>\n",
       "      <td>9.200000</td>\n",
       "      <td>1.0</td>\n",
       "    </tr>\n",
       "    <tr>\n",
       "      <th>25%</th>\n",
       "      <td>481.000000</td>\n",
       "      <td>481.000000</td>\n",
       "      <td>7.400000</td>\n",
       "      <td>0.300000</td>\n",
       "      <td>0.300000</td>\n",
       "      <td>2.000000</td>\n",
       "      <td>0.062000</td>\n",
       "      <td>6.000000</td>\n",
       "      <td>17.000000</td>\n",
       "      <td>0.994700</td>\n",
       "      <td>3.200000</td>\n",
       "      <td>0.650000</td>\n",
       "      <td>10.800000</td>\n",
       "      <td>1.0</td>\n",
       "    </tr>\n",
       "    <tr>\n",
       "      <th>50%</th>\n",
       "      <td>938.000000</td>\n",
       "      <td>938.000000</td>\n",
       "      <td>8.700000</td>\n",
       "      <td>0.370000</td>\n",
       "      <td>0.400000</td>\n",
       "      <td>2.300000</td>\n",
       "      <td>0.073000</td>\n",
       "      <td>11.000000</td>\n",
       "      <td>27.000000</td>\n",
       "      <td>0.995720</td>\n",
       "      <td>3.270000</td>\n",
       "      <td>0.740000</td>\n",
       "      <td>11.600000</td>\n",
       "      <td>1.0</td>\n",
       "    </tr>\n",
       "    <tr>\n",
       "      <th>75%</th>\n",
       "      <td>1088.000000</td>\n",
       "      <td>1088.000000</td>\n",
       "      <td>10.100000</td>\n",
       "      <td>0.490000</td>\n",
       "      <td>0.490000</td>\n",
       "      <td>2.700000</td>\n",
       "      <td>0.085000</td>\n",
       "      <td>18.000000</td>\n",
       "      <td>43.000000</td>\n",
       "      <td>0.997350</td>\n",
       "      <td>3.380000</td>\n",
       "      <td>0.820000</td>\n",
       "      <td>12.200000</td>\n",
       "      <td>1.0</td>\n",
       "    </tr>\n",
       "    <tr>\n",
       "      <th>max</th>\n",
       "      <td>1584.000000</td>\n",
       "      <td>1584.000000</td>\n",
       "      <td>15.600000</td>\n",
       "      <td>0.915000</td>\n",
       "      <td>0.760000</td>\n",
       "      <td>8.900000</td>\n",
       "      <td>0.358000</td>\n",
       "      <td>54.000000</td>\n",
       "      <td>289.000000</td>\n",
       "      <td>1.003200</td>\n",
       "      <td>3.780000</td>\n",
       "      <td>1.360000</td>\n",
       "      <td>14.000000</td>\n",
       "      <td>1.0</td>\n",
       "    </tr>\n",
       "  </tbody>\n",
       "</table>\n",
       "</div>"
      ],
      "text/plain": [
       "        Unnamed: 0  Unnamed: 0.1  fixed_acidity  volatile_acidity  \\\n",
       "count   217.000000    217.000000     217.000000        217.000000   \n",
       "mean    830.714286    830.714286       8.847005          0.405530   \n",
       "std     389.737485    389.737485       1.999977          0.144963   \n",
       "min       7.000000      7.000000       4.900000          0.120000   \n",
       "25%     481.000000    481.000000       7.400000          0.300000   \n",
       "50%     938.000000    938.000000       8.700000          0.370000   \n",
       "75%    1088.000000   1088.000000      10.100000          0.490000   \n",
       "max    1584.000000   1584.000000      15.600000          0.915000   \n",
       "\n",
       "       citric_acid  residual_sugar   chlorides  free_sulfur_dioxide  \\\n",
       "count   217.000000      217.000000  217.000000           217.000000   \n",
       "mean      0.376498        2.708756    0.075912            13.981567   \n",
       "std       0.194438        1.363026    0.028480            10.234615   \n",
       "min       0.000000        1.200000    0.012000             3.000000   \n",
       "25%       0.300000        2.000000    0.062000             6.000000   \n",
       "50%       0.400000        2.300000    0.073000            11.000000   \n",
       "75%       0.490000        2.700000    0.085000            18.000000   \n",
       "max       0.760000        8.900000    0.358000            54.000000   \n",
       "\n",
       "       total_sulfur_dioxide     density          pH   sulphates     alcohol  \\\n",
       "count            217.000000  217.000000  217.000000  217.000000  217.000000   \n",
       "mean              34.889401    0.996030    3.288802    0.743456   11.518049   \n",
       "std               32.572238    0.002201    0.154478    0.134038    0.998153   \n",
       "min                7.000000    0.990640    2.880000    0.390000    9.200000   \n",
       "25%               17.000000    0.994700    3.200000    0.650000   10.800000   \n",
       "50%               27.000000    0.995720    3.270000    0.740000   11.600000   \n",
       "75%               43.000000    0.997350    3.380000    0.820000   12.200000   \n",
       "max              289.000000    1.003200    3.780000    1.360000   14.000000   \n",
       "\n",
       "       qual_bin  \n",
       "count     217.0  \n",
       "mean        1.0  \n",
       "std         0.0  \n",
       "min         1.0  \n",
       "25%         1.0  \n",
       "50%         1.0  \n",
       "75%         1.0  \n",
       "max         1.0  "
      ]
     },
     "execution_count": 13,
     "metadata": {},
     "output_type": "execute_result"
    }
   ],
   "source": [
    "high_red_wine.describe()"
   ]
  },
  {
   "cell_type": "code",
   "execution_count": 14,
   "metadata": {},
   "outputs": [
    {
     "data": {
      "text/html": [
       "<div>\n",
       "<style scoped>\n",
       "    .dataframe tbody tr th:only-of-type {\n",
       "        vertical-align: middle;\n",
       "    }\n",
       "\n",
       "    .dataframe tbody tr th {\n",
       "        vertical-align: top;\n",
       "    }\n",
       "\n",
       "    .dataframe thead th {\n",
       "        text-align: right;\n",
       "    }\n",
       "</style>\n",
       "<table border=\"1\" class=\"dataframe\">\n",
       "  <thead>\n",
       "    <tr style=\"text-align: right;\">\n",
       "      <th></th>\n",
       "      <th>Unnamed: 0</th>\n",
       "      <th>Unnamed: 0.1</th>\n",
       "      <th>fixed_acidity</th>\n",
       "      <th>volatile_acidity</th>\n",
       "      <th>citric_acid</th>\n",
       "      <th>residual_sugar</th>\n",
       "      <th>chlorides</th>\n",
       "      <th>free_sulfur_dioxide</th>\n",
       "      <th>total_sulfur_dioxide</th>\n",
       "      <th>density</th>\n",
       "      <th>pH</th>\n",
       "      <th>sulphates</th>\n",
       "      <th>alcohol</th>\n",
       "      <th>qual_bin</th>\n",
       "    </tr>\n",
       "  </thead>\n",
       "  <tbody>\n",
       "    <tr>\n",
       "      <th>count</th>\n",
       "      <td>1060.000000</td>\n",
       "      <td>1060.000000</td>\n",
       "      <td>1060.000000</td>\n",
       "      <td>1060.000000</td>\n",
       "      <td>1060.000000</td>\n",
       "      <td>1060.000000</td>\n",
       "      <td>1060.000000</td>\n",
       "      <td>1060.000000</td>\n",
       "      <td>1060.000000</td>\n",
       "      <td>1060.000000</td>\n",
       "      <td>1060.000000</td>\n",
       "      <td>1060.000000</td>\n",
       "      <td>1060.000000</td>\n",
       "      <td>1060.0</td>\n",
       "    </tr>\n",
       "    <tr>\n",
       "      <th>mean</th>\n",
       "      <td>2424.192453</td>\n",
       "      <td>4023.192453</td>\n",
       "      <td>6.725142</td>\n",
       "      <td>0.265349</td>\n",
       "      <td>0.326057</td>\n",
       "      <td>5.261509</td>\n",
       "      <td>0.038160</td>\n",
       "      <td>34.550472</td>\n",
       "      <td>125.245283</td>\n",
       "      <td>0.992412</td>\n",
       "      <td>3.215132</td>\n",
       "      <td>0.500142</td>\n",
       "      <td>11.416022</td>\n",
       "      <td>1.0</td>\n",
       "    </tr>\n",
       "    <tr>\n",
       "      <th>std</th>\n",
       "      <td>1376.592862</td>\n",
       "      <td>1376.592862</td>\n",
       "      <td>0.768798</td>\n",
       "      <td>0.094097</td>\n",
       "      <td>0.080288</td>\n",
       "      <td>4.290845</td>\n",
       "      <td>0.011145</td>\n",
       "      <td>13.797146</td>\n",
       "      <td>32.724848</td>\n",
       "      <td>0.002772</td>\n",
       "      <td>0.157185</td>\n",
       "      <td>0.133044</td>\n",
       "      <td>1.255209</td>\n",
       "      <td>0.0</td>\n",
       "    </tr>\n",
       "    <tr>\n",
       "      <th>min</th>\n",
       "      <td>13.000000</td>\n",
       "      <td>1612.000000</td>\n",
       "      <td>3.900000</td>\n",
       "      <td>0.080000</td>\n",
       "      <td>0.010000</td>\n",
       "      <td>0.800000</td>\n",
       "      <td>0.012000</td>\n",
       "      <td>5.000000</td>\n",
       "      <td>34.000000</td>\n",
       "      <td>0.987110</td>\n",
       "      <td>2.840000</td>\n",
       "      <td>0.220000</td>\n",
       "      <td>8.500000</td>\n",
       "      <td>1.0</td>\n",
       "    </tr>\n",
       "    <tr>\n",
       "      <th>25%</th>\n",
       "      <td>1172.500000</td>\n",
       "      <td>2771.500000</td>\n",
       "      <td>6.200000</td>\n",
       "      <td>0.190000</td>\n",
       "      <td>0.280000</td>\n",
       "      <td>1.800000</td>\n",
       "      <td>0.031000</td>\n",
       "      <td>25.000000</td>\n",
       "      <td>101.000000</td>\n",
       "      <td>0.990500</td>\n",
       "      <td>3.100000</td>\n",
       "      <td>0.400000</td>\n",
       "      <td>10.700000</td>\n",
       "      <td>1.0</td>\n",
       "    </tr>\n",
       "    <tr>\n",
       "      <th>50%</th>\n",
       "      <td>2613.500000</td>\n",
       "      <td>4212.500000</td>\n",
       "      <td>6.700000</td>\n",
       "      <td>0.250000</td>\n",
       "      <td>0.310000</td>\n",
       "      <td>3.875000</td>\n",
       "      <td>0.037000</td>\n",
       "      <td>33.000000</td>\n",
       "      <td>122.000000</td>\n",
       "      <td>0.991730</td>\n",
       "      <td>3.200000</td>\n",
       "      <td>0.480000</td>\n",
       "      <td>11.500000</td>\n",
       "      <td>1.0</td>\n",
       "    </tr>\n",
       "    <tr>\n",
       "      <th>75%</th>\n",
       "      <td>3519.500000</td>\n",
       "      <td>5118.500000</td>\n",
       "      <td>7.200000</td>\n",
       "      <td>0.320000</td>\n",
       "      <td>0.360000</td>\n",
       "      <td>7.400000</td>\n",
       "      <td>0.044000</td>\n",
       "      <td>42.000000</td>\n",
       "      <td>146.000000</td>\n",
       "      <td>0.993605</td>\n",
       "      <td>3.320000</td>\n",
       "      <td>0.580000</td>\n",
       "      <td>12.400000</td>\n",
       "      <td>1.0</td>\n",
       "    </tr>\n",
       "    <tr>\n",
       "      <th>max</th>\n",
       "      <td>4896.000000</td>\n",
       "      <td>6495.000000</td>\n",
       "      <td>9.200000</td>\n",
       "      <td>0.760000</td>\n",
       "      <td>0.740000</td>\n",
       "      <td>19.250000</td>\n",
       "      <td>0.135000</td>\n",
       "      <td>108.000000</td>\n",
       "      <td>229.000000</td>\n",
       "      <td>1.000600</td>\n",
       "      <td>3.820000</td>\n",
       "      <td>1.080000</td>\n",
       "      <td>14.200000</td>\n",
       "      <td>1.0</td>\n",
       "    </tr>\n",
       "  </tbody>\n",
       "</table>\n",
       "</div>"
      ],
      "text/plain": [
       "        Unnamed: 0  Unnamed: 0.1  fixed_acidity  volatile_acidity  \\\n",
       "count  1060.000000   1060.000000    1060.000000       1060.000000   \n",
       "mean   2424.192453   4023.192453       6.725142          0.265349   \n",
       "std    1376.592862   1376.592862       0.768798          0.094097   \n",
       "min      13.000000   1612.000000       3.900000          0.080000   \n",
       "25%    1172.500000   2771.500000       6.200000          0.190000   \n",
       "50%    2613.500000   4212.500000       6.700000          0.250000   \n",
       "75%    3519.500000   5118.500000       7.200000          0.320000   \n",
       "max    4896.000000   6495.000000       9.200000          0.760000   \n",
       "\n",
       "       citric_acid  residual_sugar    chlorides  free_sulfur_dioxide  \\\n",
       "count  1060.000000     1060.000000  1060.000000          1060.000000   \n",
       "mean      0.326057        5.261509     0.038160            34.550472   \n",
       "std       0.080288        4.290845     0.011145            13.797146   \n",
       "min       0.010000        0.800000     0.012000             5.000000   \n",
       "25%       0.280000        1.800000     0.031000            25.000000   \n",
       "50%       0.310000        3.875000     0.037000            33.000000   \n",
       "75%       0.360000        7.400000     0.044000            42.000000   \n",
       "max       0.740000       19.250000     0.135000           108.000000   \n",
       "\n",
       "       total_sulfur_dioxide      density           pH    sulphates  \\\n",
       "count           1060.000000  1060.000000  1060.000000  1060.000000   \n",
       "mean             125.245283     0.992412     3.215132     0.500142   \n",
       "std               32.724848     0.002772     0.157185     0.133044   \n",
       "min               34.000000     0.987110     2.840000     0.220000   \n",
       "25%              101.000000     0.990500     3.100000     0.400000   \n",
       "50%              122.000000     0.991730     3.200000     0.480000   \n",
       "75%              146.000000     0.993605     3.320000     0.580000   \n",
       "max              229.000000     1.000600     3.820000     1.080000   \n",
       "\n",
       "           alcohol  qual_bin  \n",
       "count  1060.000000    1060.0  \n",
       "mean     11.416022       1.0  \n",
       "std       1.255209       0.0  \n",
       "min       8.500000       1.0  \n",
       "25%      10.700000       1.0  \n",
       "50%      11.500000       1.0  \n",
       "75%      12.400000       1.0  \n",
       "max      14.200000       1.0  "
      ]
     },
     "execution_count": 14,
     "metadata": {},
     "output_type": "execute_result"
    }
   ],
   "source": [
    "high_white_wine.describe()"
   ]
  },
  {
   "cell_type": "code",
   "execution_count": 15,
   "metadata": {},
   "outputs": [
    {
     "data": {
      "text/plain": [
       "<AxesSubplot:>"
      ]
     },
     "execution_count": 15,
     "metadata": {},
     "output_type": "execute_result"
    },
    {
     "data": {
      "image/png": "[encoded data removed]",
      "text/plain": [
       "<Figure size 720x360 with 1 Axes>"
      ]
     },
     "metadata": {
      "needs_background": "light"
     },
     "output_type": "display_data"
    }
   ],
   "source": [
    "plt.figure(figsize=(10, 5))\n",
    "sns.barplot(x=None, y=None, data=high_red_wine)"
   ]
  },
  {
   "cell_type": "code",
   "execution_count": 16,
   "metadata": {},
   "outputs": [
    {
     "data": {
      "text/plain": [
       "<AxesSubplot:>"
      ]
     },
     "execution_count": 16,
     "metadata": {},
     "output_type": "execute_result"
    },
    {
     "data": {
      "image/png": "[encoded data removed]",
      "text/plain": [
       "<Figure size 720x360 with 1 Axes>"
      ]
     },
     "metadata": {
      "needs_background": "light"
     },
     "output_type": "display_data"
    }
   ],
   "source": [
    "plt.figure(figsize=(10, 5))\n",
    "sns.barplot(x=None, y=None, data=high_white_wine)"
   ]
  },
  {
   "cell_type": "code",
   "execution_count": 17,
   "metadata": {},
   "outputs": [],
   "source": [
    "red_X_train, red_X_test, red_y_train, red_y_test = train_test_split(red_wine.drop(columns='qual_bin'), \n",
    "                                                    red_wine.qual_bin, test_size=0.3, random_state=47, shuffle=True)\n",
    "white_X_train, white_X_test, white_y_train, white_y_test = train_test_split(white_wine.drop(columns='qual_bin'), \n",
    "                                                    white_wine.qual_bin, test_size=0.3, random_state=47, shuffle=True)"
   ]
  },
  {
   "cell_type": "code",
   "execution_count": 18,
   "metadata": {},
   "outputs": [
    {
     "data": {
      "text/plain": [
       "Text(0.5, 0, 'Random Forest Feature Importance - Reds')"
      ]
     },
     "execution_count": 18,
     "metadata": {},
     "output_type": "execute_result"
    },
    {
     "data": {
      "image/png": "[encoded data removed]",
      "text/plain": [
       "<Figure size 432x288 with 1 Axes>"
      ]
     },
     "metadata": {
      "needs_background": "light"
     },
     "output_type": "display_data"
    }
   ],
   "source": [
    "rf = RandomForestRegressor(n_estimators=100)\n",
    "rf.fit(red_X_train, red_y_train)\n",
    "sorted_idx = rf.feature_importances_.argsort()\n",
    "plt.barh(red_wine.columns[sorted_idx], rf.feature_importances_[sorted_idx])\n",
    "plt.xlabel(\"Random Forest Feature Importance - Reds\")\n",
    "# High alcohol content, sulphates (anti_microbial) and lower volatile acidity (high=vinagar taste) appear to be the top three important features for red wine quality"
   ]
  },
  {
   "cell_type": "code",
   "execution_count": 19,
   "metadata": {},
   "outputs": [
    {
     "data": {
      "text/plain": [
       "Text(0.5, 0, 'Random Forest Feature Importance - Whites')"
      ]
     },
     "execution_count": 19,
     "metadata": {},
     "output_type": "execute_result"
    },
    {
     "data": {
      "image/png": "[encoded data removed]",
      "text/plain": [
       "<Figure size 432x288 with 1 Axes>"
      ]
     },
     "metadata": {
      "needs_background": "light"
     },
     "output_type": "display_data"
    }
   ],
   "source": [
    "rf = RandomForestRegressor(n_estimators=100)\n",
    "rf.fit(white_X_train, white_y_train)\n",
    "sorted_idx = rf.feature_importances_.argsort()\n",
    "plt.barh(white_wine.columns[sorted_idx], rf.feature_importances_[sorted_idx])\n",
    "plt.xlabel(\"Random Forest Feature Importance - Whites\")\n",
    "# High alcohol content, lower volatile acidity and higher residual sugar appear to be the top three important features for white wine quality"
   ]
  },
  {
   "cell_type": "code",
   "execution_count": 20,
   "metadata": {},
   "outputs": [
    {
     "name": "stdout",
     "output_type": "stream",
     "text": [
      "Decision Tree Classifier\n",
      "Red:  0.8604166666666667\n",
      "White:  0.827891156462585\n"
     ]
    }
   ],
   "source": [
    "#Apply Decision Tree model to the training data and score:\n",
    "red_model = DecisionTreeClassifier()\n",
    "red_model.fit(red_X_train, red_y_train)\n",
    "red_model_score = red_model.score(red_X_test, red_y_test)\n",
    "print('Decision Tree Classifier')\n",
    "print('Red: ', red_model_score)\n",
    "white_model = DecisionTreeClassifier()\n",
    "white_model.fit(white_X_train, white_y_train)\n",
    "white_model_score = white_model.score(white_X_test, white_y_test)\n",
    "print('White: ', white_model_score)"
   ]
  },
  {
   "cell_type": "code",
   "execution_count": 21,
   "metadata": {},
   "outputs": [
    {
     "name": "stdout",
     "output_type": "stream",
     "text": [
      "Red Confusion Matrix\n",
      "[[376  34]\n",
      " [ 33  37]]\n",
      "White Confusion Matrix\n",
      "[[1035  131]\n",
      " [ 122  182]]\n"
     ]
    }
   ],
   "source": [
    "#Predict using the model and create confusion matrix again:\n",
    "print('Red Confusion Matrix')\n",
    "red_y_pred = red_model.predict(red_X_test)\n",
    "print(confusion_matrix(red_y_test, red_y_pred))\n",
    "\n",
    "white_y_pred = white_model.predict(white_X_test)\n",
    "print('White Confusion Matrix')\n",
    "print(confusion_matrix(white_y_test, white_y_pred))"
   ]
  },
  {
   "cell_type": "code",
   "execution_count": 22,
   "metadata": {},
   "outputs": [
    {
     "name": "stdout",
     "output_type": "stream",
     "text": [
      "Random Forest Classifier\n",
      "Red:  0.90625\n",
      "White:  0.8843537414965986\n"
     ]
    }
   ],
   "source": [
    "#Apply Random Forest model to the training data and score:\n",
    "red_model = RandomForestClassifier()\n",
    "red_model.fit(red_X_train, red_y_train)\n",
    "red_model_score = red_model.score(red_X_test, red_y_test)\n",
    "print('Random Forest Classifier')\n",
    "print('Red: ', red_model_score)\n",
    "white_model = RandomForestClassifier()\n",
    "white_model.fit(white_X_train, white_y_train)\n",
    "white_model_score = white_model.score(white_X_test, white_y_test)\n",
    "print('White: ', white_model_score)"
   ]
  },
  {
   "cell_type": "code",
   "execution_count": 23,
   "metadata": {},
   "outputs": [
    {
     "name": "stdout",
     "output_type": "stream",
     "text": [
      "Red Confusion Matrix\n",
      "[[401   9]\n",
      " [ 36  34]]\n",
      "White Confusion Matrix\n",
      "[[1126   40]\n",
      " [ 130  174]]\n"
     ]
    }
   ],
   "source": [
    "#Predict using the model and score again:\n",
    "print('Red Confusion Matrix')\n",
    "red_y_pred = red_model.predict(red_X_test)\n",
    "print(confusion_matrix(red_y_test, red_y_pred))\n",
    "\n",
    "white_y_pred = white_model.predict(white_X_test)\n",
    "print('White Confusion Matrix')\n",
    "print(confusion_matrix(white_y_test, white_y_pred))"
   ]
  },
  {
   "cell_type": "code",
   "execution_count": 24,
   "metadata": {},
   "outputs": [
    {
     "name": "stdout",
     "output_type": "stream",
     "text": [
      "Gradient Boosting Classifier\n",
      "Red:  0.8729166666666667\n",
      "White:  0.8503401360544217\n"
     ]
    }
   ],
   "source": [
    "#Apply  Gradient Boosting Classifier model to the training data and score:\n",
    "red_model = GradientBoostingClassifier()\n",
    "red_model.fit(red_X_train, red_y_train)\n",
    "red_model_score = red_model.score(red_X_test, red_y_test)\n",
    "print('Gradient Boosting Classifier')\n",
    "print('Red: ', red_model_score)\n",
    "white_model = GradientBoostingClassifier()\n",
    "white_model.fit(white_X_train, white_y_train)\n",
    "white_model_score = white_model.score(white_X_test, white_y_test)\n",
    "print('White: ', white_model_score)"
   ]
  },
  {
   "cell_type": "code",
   "execution_count": 25,
   "metadata": {},
   "outputs": [
    {
     "name": "stdout",
     "output_type": "stream",
     "text": [
      "Red Confusion Matrix\n",
      "[[386  24]\n",
      " [ 37  33]]\n",
      "White Confusion Matrix\n",
      "[[1101   65]\n",
      " [ 155  149]]\n"
     ]
    }
   ],
   "source": [
    "#Predict using the model and score again:\n",
    "print('Red Confusion Matrix')\n",
    "red_y_pred = red_model.predict(red_X_test)\n",
    "print(confusion_matrix(red_y_test, red_y_pred))\n",
    "\n",
    "white_y_pred = white_model.predict(white_X_test)\n",
    "print('White Confusion Matrix')\n",
    "print(confusion_matrix(white_y_test, white_y_pred))"
   ]
  },
  {
   "cell_type": "code",
   "execution_count": 26,
   "metadata": {},
   "outputs": [
    {
     "name": "stdout",
     "output_type": "stream",
     "text": [
      "KNeighbors Classifier\n",
      "Red:  0.8520833333333333\n",
      "White:  0.7748299319727892\n"
     ]
    }
   ],
   "source": [
    "#Apply KNeighborsClassifier model to the training data and score:\n",
    "red_model = KNeighborsClassifier()\n",
    "red_model.fit(red_X_train, red_y_train)\n",
    "red_model_score = red_model.score(red_X_test, red_y_test)\n",
    "print('KNeighbors Classifier')\n",
    "print('Red: ', red_model_score)\n",
    "white_model = KNeighborsClassifier()\n",
    "white_model.fit(white_X_train, white_y_train)\n",
    "white_model_score = white_model.score(white_X_test, white_y_test)\n",
    "print('White: ', white_model_score)"
   ]
  },
  {
   "cell_type": "code",
   "execution_count": 27,
   "metadata": {},
   "outputs": [
    {
     "name": "stdout",
     "output_type": "stream",
     "text": [
      "Red Confusion Matrix\n",
      "[[402   8]\n",
      " [ 63   7]]\n",
      "White Confusion Matrix\n",
      "[[1037  129]\n",
      " [ 202  102]]\n"
     ]
    }
   ],
   "source": [
    "#Predict using the model and score again:\n",
    "print('Red Confusion Matrix')\n",
    "red_y_pred = red_model.predict(red_X_test)\n",
    "print(confusion_matrix(red_y_test, red_y_pred))\n",
    "\n",
    "white_y_pred = white_model.predict(white_X_test)\n",
    "print('White Confusion Matrix')\n",
    "print(confusion_matrix(white_y_test, white_y_pred))"
   ]
  },
  {
   "cell_type": "code",
   "execution_count": 28,
   "metadata": {},
   "outputs": [
    {
     "name": "stdout",
     "output_type": "stream",
     "text": [
      "GaussianNB Classifier\n",
      "Red:  0.8583333333333333\n",
      "White:  0.7891156462585034\n"
     ]
    }
   ],
   "source": [
    "#Apply GaussianNB model to the training data and score:\n",
    "red_model = GaussianNB()\n",
    "red_model.fit(red_X_train, red_y_train)\n",
    "red_model_score = red_model.score(red_X_test, red_y_test)\n",
    "print('GaussianNB Classifier')\n",
    "print('Red: ', red_model_score)\n",
    "white_model = GaussianNB()\n",
    "white_model.fit(white_X_train, white_y_train)\n",
    "white_model_score = white_model.score(white_X_test, white_y_test)\n",
    "print('White: ', white_model_score)"
   ]
  },
  {
   "cell_type": "code",
   "execution_count": 29,
   "metadata": {},
   "outputs": [
    {
     "name": "stdout",
     "output_type": "stream",
     "text": [
      "Red Confusion Matrix\n",
      "[[365  45]\n",
      " [ 23  47]]\n",
      "White Confusion Matrix\n",
      "[[987 179]\n",
      " [131 173]]\n"
     ]
    }
   ],
   "source": [
    "#Predict using the model and score again:\n",
    "print('Red Confusion Matrix')\n",
    "red_y_pred = red_model.predict(red_X_test)\n",
    "print(confusion_matrix(red_y_test, red_y_pred))\n",
    "\n",
    "white_y_pred = white_model.predict(white_X_test)\n",
    "print('White Confusion Matrix')\n",
    "print(confusion_matrix(white_y_test, white_y_pred))"
   ]
  },
  {
   "cell_type": "code",
   "execution_count": 30,
   "metadata": {},
   "outputs": [
    {
     "name": "stdout",
     "output_type": "stream",
     "text": [
      "SVC Classifier\n",
      "Red:  0.8541666666666666\n",
      "White:  0.7931972789115647\n"
     ]
    }
   ],
   "source": [
    "#Apply SVC model to the training data and score:\n",
    "red_model = SVC()\n",
    "red_model.fit(red_X_train, red_y_train)\n",
    "red_model_score = red_model.score(red_X_test, red_y_test)\n",
    "print('SVC Classifier')\n",
    "print('Red: ', red_model_score)\n",
    "white_model = SVC()\n",
    "white_model.fit(white_X_train, white_y_train)\n",
    "white_model_score = white_model.score(white_X_test, white_y_test)\n",
    "print('White: ', white_model_score)"
   ]
  },
  {
   "cell_type": "code",
   "execution_count": 31,
   "metadata": {},
   "outputs": [
    {
     "name": "stdout",
     "output_type": "stream",
     "text": [
      "Red Confusion Matrix\n",
      "[[410   0]\n",
      " [ 70   0]]\n",
      "White Confusion Matrix\n",
      "[[1166    0]\n",
      " [ 304    0]]\n"
     ]
    }
   ],
   "source": [
    "#Predict using the model and score again:\n",
    "print('Red Confusion Matrix')\n",
    "red_y_pred = red_model.predict(red_X_test)\n",
    "print(confusion_matrix(red_y_test, red_y_pred))\n",
    "\n",
    "white_y_pred = white_model.predict(white_X_test)\n",
    "print('White Confusion Matrix')\n",
    "print(confusion_matrix(white_y_test, white_y_pred))"
   ]
  },
  {
   "cell_type": "markdown",
   "metadata": {},
   "source": [
    "I applied different ML models above and evaluated their performance for both red and white wine test data and tabulated the scores and put them in a confusion matrix. The Random Forest model appears to be the best for both red and white wines. So, I will perform a gridsearch hyperparameter tuning for that model as well determine the ROC_AUC scores and ROC curve."
   ]
  },
  {
   "cell_type": "code",
   "execution_count": 32,
   "metadata": {},
   "outputs": [],
   "source": [
    "#build param grid features\n",
    "n_estimators = [int(x) for x in np.linspace(start = 10, stop = 80, num = 10)]\n",
    "max_features = ['auto', 'sqrt']\n",
    "max_depth = [2, 4]\n",
    "min_sample_split = [2, 5]\n",
    "min_sample_leaf = [1, 2]\n",
    "bootstrap = [True, False]"
   ]
  },
  {
   "cell_type": "code",
   "execution_count": 33,
   "metadata": {},
   "outputs": [
    {
     "name": "stdout",
     "output_type": "stream",
     "text": [
      "{'n_estimators': [10, 17, 25, 33, 41, 48, 56, 64, 72, 80], 'max_features': ['auto', 'sqrt'], 'max_depth': [2, 4], 'min_samples_split': [2, 5], 'min_samples_leaf': [1, 2], 'bootstrap': [True, False]}\n"
     ]
    }
   ],
   "source": [
    "param_grid = {'n_estimators' : n_estimators, \n",
    "              'max_features' : max_features, \n",
    "              'max_depth' : max_depth, \n",
    "              'min_samples_split' : min_sample_split, \n",
    "              'min_samples_leaf' : min_sample_leaf, \n",
    "              'bootstrap' : bootstrap}\n",
    "print(param_grid)"
   ]
  },
  {
   "cell_type": "code",
   "execution_count": 34,
   "metadata": {},
   "outputs": [
    {
     "name": "stdout",
     "output_type": "stream",
     "text": [
      "Red:\n",
      "RandomForestClassifier(bootstrap=False, max_depth=4, min_samples_leaf=2,\n",
      "                       min_samples_split=5, n_estimators=56)\n",
      "0.8316877315386124\n",
      "White:\n",
      "RandomForestClassifier(bootstrap=False, max_depth=4, min_samples_leaf=2,\n",
      "                       min_samples_split=5, n_estimators=56)\n",
      "0.8316877315386124\n"
     ]
    }
   ],
   "source": [
    "#GridSearchCV\n",
    "rf = RandomForestClassifier()\n",
    "gs = GridSearchCV(estimator = rf, param_grid = param_grid, scoring = 'roc_auc', cv = 3, n_jobs = 4)\n",
    "red_gs = gs.fit(red_X_train, red_y_train)\n",
    "white_gs = gs.fit(white_X_train, white_y_train)\n",
    "\n",
    "print('Red:')\n",
    "print(red_gs.best_estimator_)\n",
    "print(red_gs.best_score_)\n",
    "\n",
    "print('White:')\n",
    "print(white_gs.best_estimator_)\n",
    "print(white_gs.best_score_)\n"
   ]
  },
  {
   "cell_type": "code",
   "execution_count": 35,
   "metadata": {},
   "outputs": [
    {
     "name": "stdout",
     "output_type": "stream",
     "text": [
      "Red:\n",
      "Accuracy Score:  0.875\n",
      "CV Score:  0.882404181184669\n",
      " \n",
      "White:\n",
      "Accuracy Score:  0.8183673469387756\n",
      "CV Score:  0.8279427750927433\n"
     ]
    }
   ],
   "source": [
    "#Fitting the Random forest model with the optimal hyperparameters\n",
    "rf = RandomForestClassifier(n_estimators = 48, max_features = 'sqrt' , max_depth = 4, min_samples_split = 5, bootstrap = False)\n",
    "rf.fit(red_X_train, red_y_train)\n",
    "red_y_pred = rf.predict(red_X_test)\n",
    "red_acc = accuracy_score(red_y_test, red_y_pred)\n",
    "red_cv = cross_val_score(rf, red_X_test, red_y_test, scoring = 'roc_auc').mean()\n",
    "print('Red:')\n",
    "print(\"Accuracy Score: \", red_acc)\n",
    "print(\"CV Score: \", red_cv)\n",
    "print(\" \")\n",
    "print('White:')\n",
    "rf.fit(white_X_train, white_y_train)\n",
    "white_y_pred = rf.predict(white_X_test)\n",
    "white_acc = accuracy_score(white_y_test, white_y_pred)\n",
    "white_cv = cross_val_score(rf, white_X_test, white_y_test, scoring = 'roc_auc').mean()\n",
    "print(\"Accuracy Score: \", white_acc)\n",
    "print(\"CV Score: \", white_cv)"
   ]
  },
  {
   "cell_type": "markdown",
   "metadata": {},
   "source": [
    "With wines, you want a high accuracy"
   ]
  },
  {
   "cell_type": "code",
   "execution_count": 38,
   "metadata": {},
   "outputs": [
    {
     "name": "stdout",
     "output_type": "stream",
     "text": [
      "Red ROC-AUC Score: 0.767369337979094\n",
      "White ROC-AUC Score: 0.8557469870000904\n"
     ]
    }
   ],
   "source": [
    "#ROC-AUC Score\n",
    "red_y_scores_rf = rf.predict_proba(red_X_test)\n",
    "red_y_scores_rf = red_y_scores_rf[:,1]\n",
    "red_auroc = roc_auc_score(red_y_test, red_y_scores_rf)\n",
    "print(\"Red ROC-AUC Score:\", red_auroc)\n",
    "\n",
    "white_y_scores_rf = rf.predict_proba(white_X_test)\n",
    "white_y_scores_rf = white_y_scores_rf[:,1]\n",
    "white_auroc = roc_auc_score(white_y_test, white_y_scores_rf)\n",
    "print(\"White ROC-AUC Score:\", white_auroc)"
   ]
  },
  {
   "cell_type": "code",
   "execution_count": 41,
   "metadata": {},
   "outputs": [
    {
     "name": "stdout",
     "output_type": "stream",
     "text": [
      "Red wine\n"
     ]
    },
    {
     "data": {
      "image/png": "[encoded data removed]",
      "text/plain": [
       "<Figure size 720x360 with 1 Axes>"
      ]
     },
     "metadata": {
      "needs_background": "light"
     },
     "output_type": "display_data"
    }
   ],
   "source": [
    "false_positive_rate, true_positive_rate, thresholds = roc_curve(red_y_test, red_y_scores_rf)\n",
    "def plot_roc_curve(false_positive_rate, true_positive_rate, label=None):\n",
    "    plt.plot(false_positive_rate, true_positive_rate, linewidth=2, label=label)\n",
    "    plt.plot([0, 1], [0, 1], 'r', linewidth=4)\n",
    "    plt.axis([0, 1, 0, 1])\n",
    "    plt.xlabel('False Positive Rate (FPR)', fontsize=15)\n",
    "    plt.ylabel('True Positive Rate (TPR)', fontsize=15)\n",
    "    plt.title('ROC curve (RF)',fontsize=15)\n",
    "\n",
    "print('Red wine')\n",
    "plt.figure(figsize=(10, 5))\n",
    "plot_roc_curve(false_positive_rate, true_positive_rate)\n",
    "plt.savefig(\"red_roc_curve_RF.jpg\")\n",
    "plt.show()\n",
    "# TPR starts leveling off around .3 FPR"
   ]
  },
  {
   "cell_type": "code",
   "execution_count": 42,
   "metadata": {},
   "outputs": [
    {
     "name": "stdout",
     "output_type": "stream",
     "text": [
      "White wine\n"
     ]
    },
    {
     "data": {
      "image/png": "[encoded data removed]",
      "text/plain": [
       "<Figure size 720x360 with 1 Axes>"
      ]
     },
     "metadata": {
      "needs_background": "light"
     },
     "output_type": "display_data"
    }
   ],
   "source": [
    "false_positive_rate, true_positive_rate, thresholds = roc_curve(white_y_test, white_y_scores_rf)\n",
    "print('White wine')\n",
    "plt.figure(figsize=(10, 5))\n",
    "plot_roc_curve(false_positive_rate, true_positive_rate)\n",
    "plt.savefig(\"white_roc_curve_RF.jpg\")\n",
    "plt.show()\n",
    "# TPR starts leveling off around .2 FPR"
   ]
  },
  {
   "cell_type": "code",
   "execution_count": 39,
   "metadata": {},
   "outputs": [
    {
     "name": "stdout",
     "output_type": "stream",
     "text": [
      "Red: \n",
      "              precision    recall  f1-score   support\n",
      "\n",
      "           0       0.88      0.99      0.93       410\n",
      "           1       0.75      0.21      0.33        70\n",
      "\n",
      "    accuracy                           0.88       480\n",
      "   macro avg       0.82      0.60      0.63       480\n",
      "weighted avg       0.86      0.88      0.84       480\n",
      "\n",
      " \n",
      "White: \n",
      "              precision    recall  f1-score   support\n",
      "\n",
      "           0       0.82      0.99      0.90      1166\n",
      "           1       0.80      0.16      0.27       304\n",
      "\n",
      "    accuracy                           0.82      1470\n",
      "   macro avg       0.81      0.58      0.58      1470\n",
      "weighted avg       0.82      0.82      0.77      1470\n",
      "\n"
     ]
    }
   ],
   "source": [
    "# Classification Reports\n",
    "print(\"Red: \")\n",
    "print(classification_report(red_y_test, red_y_pred))\n",
    "print(\" \")\n",
    "print(\"White: \")\n",
    "print(classification_report(white_y_test, white_y_pred))"
   ]
  },
  {
   "cell_type": "code",
   "execution_count": null,
   "metadata": {},
   "outputs": [],
   "source": []
  }
 ],
 "metadata": {
  "kernelspec": {
   "display_name": "Python 3",
   "language": "python",
   "name": "python3"
  },
  "language_info": {
   "codemirror_mode": {
    "name": "ipython",
    "version": 3
   },
   "file_extension": ".py",
   "mimetype": "text/x-python",
   "name": "python",
   "nbconvert_exporter": "python",
   "pygments_lexer": "ipython3",
   "version": "3.8.5"
  }
 },
 "nbformat": 4,
 "nbformat_minor": 4
}

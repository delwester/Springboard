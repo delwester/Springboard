{
 "cells": [
  {
   "cell_type": "code",
   "execution_count": 60,
   "metadata": {},
   "outputs": [
    {
     "data": {
      "text/html": [
       "<div>\n",
       "<style scoped>\n",
       "    .dataframe tbody tr th:only-of-type {\n",
       "        vertical-align: middle;\n",
       "    }\n",
       "\n",
       "    .dataframe tbody tr th {\n",
       "        vertical-align: top;\n",
       "    }\n",
       "\n",
       "    .dataframe thead th {\n",
       "        text-align: right;\n",
       "    }\n",
       "</style>\n",
       "<table border=\"1\" class=\"dataframe\">\n",
       "  <thead>\n",
       "    <tr style=\"text-align: right;\">\n",
       "      <th></th>\n",
       "      <th>fixed_acidity</th>\n",
       "      <th>volatile_acidity</th>\n",
       "      <th>citric_acid</th>\n",
       "      <th>residual_sugar</th>\n",
       "      <th>chlorides</th>\n",
       "      <th>free_sulfur_dioxide</th>\n",
       "      <th>total_sulfur_dioxide</th>\n",
       "      <th>density</th>\n",
       "      <th>pH</th>\n",
       "      <th>sulphates</th>\n",
       "      <th>alcohol</th>\n",
       "      <th>quality</th>\n",
       "      <th>type</th>\n",
       "    </tr>\n",
       "  </thead>\n",
       "  <tbody>\n",
       "    <tr>\n",
       "      <th>0</th>\n",
       "      <td>7.4</td>\n",
       "      <td>0.70</td>\n",
       "      <td>0.00</td>\n",
       "      <td>1.9</td>\n",
       "      <td>0.076</td>\n",
       "      <td>11.0</td>\n",
       "      <td>34.0</td>\n",
       "      <td>0.9978</td>\n",
       "      <td>3.51</td>\n",
       "      <td>0.56</td>\n",
       "      <td>9.4</td>\n",
       "      <td>5</td>\n",
       "      <td>red</td>\n",
       "    </tr>\n",
       "    <tr>\n",
       "      <th>1</th>\n",
       "      <td>7.8</td>\n",
       "      <td>0.88</td>\n",
       "      <td>0.00</td>\n",
       "      <td>2.6</td>\n",
       "      <td>0.098</td>\n",
       "      <td>25.0</td>\n",
       "      <td>67.0</td>\n",
       "      <td>0.9968</td>\n",
       "      <td>3.20</td>\n",
       "      <td>0.68</td>\n",
       "      <td>9.8</td>\n",
       "      <td>5</td>\n",
       "      <td>red</td>\n",
       "    </tr>\n",
       "    <tr>\n",
       "      <th>2</th>\n",
       "      <td>7.8</td>\n",
       "      <td>0.76</td>\n",
       "      <td>0.04</td>\n",
       "      <td>2.3</td>\n",
       "      <td>0.092</td>\n",
       "      <td>15.0</td>\n",
       "      <td>54.0</td>\n",
       "      <td>0.9970</td>\n",
       "      <td>3.26</td>\n",
       "      <td>0.65</td>\n",
       "      <td>9.8</td>\n",
       "      <td>5</td>\n",
       "      <td>red</td>\n",
       "    </tr>\n",
       "    <tr>\n",
       "      <th>3</th>\n",
       "      <td>11.2</td>\n",
       "      <td>0.28</td>\n",
       "      <td>0.56</td>\n",
       "      <td>1.9</td>\n",
       "      <td>0.075</td>\n",
       "      <td>17.0</td>\n",
       "      <td>60.0</td>\n",
       "      <td>0.9980</td>\n",
       "      <td>3.16</td>\n",
       "      <td>0.58</td>\n",
       "      <td>9.8</td>\n",
       "      <td>6</td>\n",
       "      <td>red</td>\n",
       "    </tr>\n",
       "    <tr>\n",
       "      <th>4</th>\n",
       "      <td>7.4</td>\n",
       "      <td>0.70</td>\n",
       "      <td>0.00</td>\n",
       "      <td>1.9</td>\n",
       "      <td>0.076</td>\n",
       "      <td>11.0</td>\n",
       "      <td>34.0</td>\n",
       "      <td>0.9978</td>\n",
       "      <td>3.51</td>\n",
       "      <td>0.56</td>\n",
       "      <td>9.4</td>\n",
       "      <td>5</td>\n",
       "      <td>red</td>\n",
       "    </tr>\n",
       "  </tbody>\n",
       "</table>\n",
       "</div>"
      ],
      "text/plain": [
       "   fixed_acidity  volatile_acidity  citric_acid  residual_sugar  chlorides  \\\n",
       "0            7.4              0.70         0.00             1.9      0.076   \n",
       "1            7.8              0.88         0.00             2.6      0.098   \n",
       "2            7.8              0.76         0.04             2.3      0.092   \n",
       "3           11.2              0.28         0.56             1.9      0.075   \n",
       "4            7.4              0.70         0.00             1.9      0.076   \n",
       "\n",
       "   free_sulfur_dioxide  total_sulfur_dioxide  density    pH  sulphates  \\\n",
       "0                 11.0                  34.0   0.9978  3.51       0.56   \n",
       "1                 25.0                  67.0   0.9968  3.20       0.68   \n",
       "2                 15.0                  54.0   0.9970  3.26       0.65   \n",
       "3                 17.0                  60.0   0.9980  3.16       0.58   \n",
       "4                 11.0                  34.0   0.9978  3.51       0.56   \n",
       "\n",
       "   alcohol  quality type  \n",
       "0      9.4        5  red  \n",
       "1      9.8        5  red  \n",
       "2      9.8        5  red  \n",
       "3      9.8        6  red  \n",
       "4      9.4        5  red  "
      ]
     },
     "execution_count": 60,
     "metadata": {},
     "output_type": "execute_result"
    }
   ],
   "source": [
    "#Import packages:\n",
    "import os\n",
    "import pandas as pd\n",
    "from datetime import datetime,timedelta\n",
    "import seaborn as sns\n",
    "import matplotlib.pyplot as plt\n",
    "import numpy as np\n",
    "from sklearn.model_selection import train_test_split, cross_val_score\n",
    "from sklearn.preprocessing import RobustScaler\n",
    "from sklearn.linear_model import LogisticRegression\n",
    "from sklearn.model_selection import GridSearchCV, validation_curve\n",
    "from sklearn.neighbors import KNeighborsClassifier\n",
    "from sklearn.svm import SVC\n",
    "from sklearn.ensemble import GradientBoostingClassifier, RandomForestClassifier\n",
    "from sklearn.tree import DecisionTreeClassifier\n",
    "from sklearn.naive_bayes import GaussianNB\n",
    "from sklearn.metrics import auc, roc_curve, roc_auc_score, accuracy_score, confusion_matrix\n",
    "from sklearn.datasets import make_classification\n",
    "\n",
    "#import data\n",
    "importedData ='wineQuality.csv'\n",
    "df = pd.read_csv(importedData)\n",
    "df.head()"
   ]
  },
  {
   "cell_type": "code",
   "execution_count": 61,
   "metadata": {},
   "outputs": [],
   "source": [
    "# split quality into hi/lo >=7\n",
    "conditions = [df['quality'] >= 7, df['quality'] < 7,]\n",
    "outputs = ['1', '0']\n",
    "df['qualbin'] = pd.to_numeric(np.select(conditions, outputs))"
   ]
  },
  {
   "cell_type": "code",
   "execution_count": 62,
   "metadata": {},
   "outputs": [],
   "source": [
    "#create 2 datasets and model them separately: red, white\n",
    "white_wine = df.loc[df['type']  == 'white']\n",
    "red_wine = df.loc[df['type']  == 'red']"
   ]
  },
  {
   "cell_type": "code",
   "execution_count": 63,
   "metadata": {},
   "outputs": [
    {
     "data": {
      "text/html": [
       "<div>\n",
       "<style scoped>\n",
       "    .dataframe tbody tr th:only-of-type {\n",
       "        vertical-align: middle;\n",
       "    }\n",
       "\n",
       "    .dataframe tbody tr th {\n",
       "        vertical-align: top;\n",
       "    }\n",
       "\n",
       "    .dataframe thead th {\n",
       "        text-align: right;\n",
       "    }\n",
       "</style>\n",
       "<table border=\"1\" class=\"dataframe\">\n",
       "  <thead>\n",
       "    <tr style=\"text-align: right;\">\n",
       "      <th></th>\n",
       "      <th>fixed_acidity</th>\n",
       "      <th>volatile_acidity</th>\n",
       "      <th>citric_acid</th>\n",
       "      <th>residual_sugar</th>\n",
       "      <th>chlorides</th>\n",
       "      <th>free_sulfur_dioxide</th>\n",
       "      <th>total_sulfur_dioxide</th>\n",
       "      <th>density</th>\n",
       "      <th>pH</th>\n",
       "      <th>sulphates</th>\n",
       "      <th>alcohol</th>\n",
       "      <th>qualbin</th>\n",
       "    </tr>\n",
       "  </thead>\n",
       "  <tbody>\n",
       "    <tr>\n",
       "      <th>1599</th>\n",
       "      <td>7.0</td>\n",
       "      <td>0.27</td>\n",
       "      <td>0.36</td>\n",
       "      <td>20.7</td>\n",
       "      <td>0.045</td>\n",
       "      <td>45.0</td>\n",
       "      <td>170.0</td>\n",
       "      <td>1.0010</td>\n",
       "      <td>3.00</td>\n",
       "      <td>0.45</td>\n",
       "      <td>8.8</td>\n",
       "      <td>0</td>\n",
       "    </tr>\n",
       "    <tr>\n",
       "      <th>1600</th>\n",
       "      <td>6.3</td>\n",
       "      <td>0.30</td>\n",
       "      <td>0.34</td>\n",
       "      <td>1.6</td>\n",
       "      <td>0.049</td>\n",
       "      <td>14.0</td>\n",
       "      <td>132.0</td>\n",
       "      <td>0.9940</td>\n",
       "      <td>3.30</td>\n",
       "      <td>0.49</td>\n",
       "      <td>9.5</td>\n",
       "      <td>0</td>\n",
       "    </tr>\n",
       "    <tr>\n",
       "      <th>1601</th>\n",
       "      <td>8.1</td>\n",
       "      <td>0.28</td>\n",
       "      <td>0.40</td>\n",
       "      <td>6.9</td>\n",
       "      <td>0.050</td>\n",
       "      <td>30.0</td>\n",
       "      <td>97.0</td>\n",
       "      <td>0.9951</td>\n",
       "      <td>3.26</td>\n",
       "      <td>0.44</td>\n",
       "      <td>10.1</td>\n",
       "      <td>0</td>\n",
       "    </tr>\n",
       "    <tr>\n",
       "      <th>1602</th>\n",
       "      <td>7.2</td>\n",
       "      <td>0.23</td>\n",
       "      <td>0.32</td>\n",
       "      <td>8.5</td>\n",
       "      <td>0.058</td>\n",
       "      <td>47.0</td>\n",
       "      <td>186.0</td>\n",
       "      <td>0.9956</td>\n",
       "      <td>3.19</td>\n",
       "      <td>0.40</td>\n",
       "      <td>9.9</td>\n",
       "      <td>0</td>\n",
       "    </tr>\n",
       "    <tr>\n",
       "      <th>1603</th>\n",
       "      <td>7.2</td>\n",
       "      <td>0.23</td>\n",
       "      <td>0.32</td>\n",
       "      <td>8.5</td>\n",
       "      <td>0.058</td>\n",
       "      <td>47.0</td>\n",
       "      <td>186.0</td>\n",
       "      <td>0.9956</td>\n",
       "      <td>3.19</td>\n",
       "      <td>0.40</td>\n",
       "      <td>9.9</td>\n",
       "      <td>0</td>\n",
       "    </tr>\n",
       "  </tbody>\n",
       "</table>\n",
       "</div>"
      ],
      "text/plain": [
       "      fixed_acidity  volatile_acidity  citric_acid  residual_sugar  chlorides  \\\n",
       "1599            7.0              0.27         0.36            20.7      0.045   \n",
       "1600            6.3              0.30         0.34             1.6      0.049   \n",
       "1601            8.1              0.28         0.40             6.9      0.050   \n",
       "1602            7.2              0.23         0.32             8.5      0.058   \n",
       "1603            7.2              0.23         0.32             8.5      0.058   \n",
       "\n",
       "      free_sulfur_dioxide  total_sulfur_dioxide  density    pH  sulphates  \\\n",
       "1599                 45.0                 170.0   1.0010  3.00       0.45   \n",
       "1600                 14.0                 132.0   0.9940  3.30       0.49   \n",
       "1601                 30.0                  97.0   0.9951  3.26       0.44   \n",
       "1602                 47.0                 186.0   0.9956  3.19       0.40   \n",
       "1603                 47.0                 186.0   0.9956  3.19       0.40   \n",
       "\n",
       "      alcohol  qualbin  \n",
       "1599      8.8        0  \n",
       "1600      9.5        0  \n",
       "1601     10.1        0  \n",
       "1602      9.9        0  \n",
       "1603      9.9        0  "
      ]
     },
     "execution_count": 63,
     "metadata": {},
     "output_type": "execute_result"
    }
   ],
   "source": [
    "#drop type and quality columns\n",
    "white_wine = white_wine.drop(white_wine[['type', 'quality']], axis = 1)\n",
    "white_wine.head()"
   ]
  },
  {
   "cell_type": "code",
   "execution_count": 64,
   "metadata": {},
   "outputs": [
    {
     "data": {
      "text/html": [
       "<div>\n",
       "<style scoped>\n",
       "    .dataframe tbody tr th:only-of-type {\n",
       "        vertical-align: middle;\n",
       "    }\n",
       "\n",
       "    .dataframe tbody tr th {\n",
       "        vertical-align: top;\n",
       "    }\n",
       "\n",
       "    .dataframe thead th {\n",
       "        text-align: right;\n",
       "    }\n",
       "</style>\n",
       "<table border=\"1\" class=\"dataframe\">\n",
       "  <thead>\n",
       "    <tr style=\"text-align: right;\">\n",
       "      <th></th>\n",
       "      <th>fixed_acidity</th>\n",
       "      <th>volatile_acidity</th>\n",
       "      <th>citric_acid</th>\n",
       "      <th>residual_sugar</th>\n",
       "      <th>chlorides</th>\n",
       "      <th>free_sulfur_dioxide</th>\n",
       "      <th>total_sulfur_dioxide</th>\n",
       "      <th>density</th>\n",
       "      <th>pH</th>\n",
       "      <th>sulphates</th>\n",
       "      <th>alcohol</th>\n",
       "      <th>qualbin</th>\n",
       "    </tr>\n",
       "  </thead>\n",
       "  <tbody>\n",
       "    <tr>\n",
       "      <th>0</th>\n",
       "      <td>7.4</td>\n",
       "      <td>0.70</td>\n",
       "      <td>0.00</td>\n",
       "      <td>1.9</td>\n",
       "      <td>0.076</td>\n",
       "      <td>11.0</td>\n",
       "      <td>34.0</td>\n",
       "      <td>0.9978</td>\n",
       "      <td>3.51</td>\n",
       "      <td>0.56</td>\n",
       "      <td>9.4</td>\n",
       "      <td>0</td>\n",
       "    </tr>\n",
       "    <tr>\n",
       "      <th>1</th>\n",
       "      <td>7.8</td>\n",
       "      <td>0.88</td>\n",
       "      <td>0.00</td>\n",
       "      <td>2.6</td>\n",
       "      <td>0.098</td>\n",
       "      <td>25.0</td>\n",
       "      <td>67.0</td>\n",
       "      <td>0.9968</td>\n",
       "      <td>3.20</td>\n",
       "      <td>0.68</td>\n",
       "      <td>9.8</td>\n",
       "      <td>0</td>\n",
       "    </tr>\n",
       "    <tr>\n",
       "      <th>2</th>\n",
       "      <td>7.8</td>\n",
       "      <td>0.76</td>\n",
       "      <td>0.04</td>\n",
       "      <td>2.3</td>\n",
       "      <td>0.092</td>\n",
       "      <td>15.0</td>\n",
       "      <td>54.0</td>\n",
       "      <td>0.9970</td>\n",
       "      <td>3.26</td>\n",
       "      <td>0.65</td>\n",
       "      <td>9.8</td>\n",
       "      <td>0</td>\n",
       "    </tr>\n",
       "    <tr>\n",
       "      <th>3</th>\n",
       "      <td>11.2</td>\n",
       "      <td>0.28</td>\n",
       "      <td>0.56</td>\n",
       "      <td>1.9</td>\n",
       "      <td>0.075</td>\n",
       "      <td>17.0</td>\n",
       "      <td>60.0</td>\n",
       "      <td>0.9980</td>\n",
       "      <td>3.16</td>\n",
       "      <td>0.58</td>\n",
       "      <td>9.8</td>\n",
       "      <td>0</td>\n",
       "    </tr>\n",
       "    <tr>\n",
       "      <th>4</th>\n",
       "      <td>7.4</td>\n",
       "      <td>0.70</td>\n",
       "      <td>0.00</td>\n",
       "      <td>1.9</td>\n",
       "      <td>0.076</td>\n",
       "      <td>11.0</td>\n",
       "      <td>34.0</td>\n",
       "      <td>0.9978</td>\n",
       "      <td>3.51</td>\n",
       "      <td>0.56</td>\n",
       "      <td>9.4</td>\n",
       "      <td>0</td>\n",
       "    </tr>\n",
       "  </tbody>\n",
       "</table>\n",
       "</div>"
      ],
      "text/plain": [
       "   fixed_acidity  volatile_acidity  citric_acid  residual_sugar  chlorides  \\\n",
       "0            7.4              0.70         0.00             1.9      0.076   \n",
       "1            7.8              0.88         0.00             2.6      0.098   \n",
       "2            7.8              0.76         0.04             2.3      0.092   \n",
       "3           11.2              0.28         0.56             1.9      0.075   \n",
       "4            7.4              0.70         0.00             1.9      0.076   \n",
       "\n",
       "   free_sulfur_dioxide  total_sulfur_dioxide  density    pH  sulphates  \\\n",
       "0                 11.0                  34.0   0.9978  3.51       0.56   \n",
       "1                 25.0                  67.0   0.9968  3.20       0.68   \n",
       "2                 15.0                  54.0   0.9970  3.26       0.65   \n",
       "3                 17.0                  60.0   0.9980  3.16       0.58   \n",
       "4                 11.0                  34.0   0.9978  3.51       0.56   \n",
       "\n",
       "   alcohol  qualbin  \n",
       "0      9.4        0  \n",
       "1      9.8        0  \n",
       "2      9.8        0  \n",
       "3      9.8        0  \n",
       "4      9.4        0  "
      ]
     },
     "execution_count": 64,
     "metadata": {},
     "output_type": "execute_result"
    }
   ],
   "source": [
    "red_wine = red_wine.drop(red_wine[['type', 'quality']], axis = 1)\n",
    "red_wine.head()"
   ]
  },
  {
   "cell_type": "code",
   "execution_count": 65,
   "metadata": {},
   "outputs": [],
   "source": [
    "# Split data into training and test - red:\n",
    "red_X = red_wine.drop(red_wine[['qualbin']], axis = 1).values\n",
    "red_y = red_wine['qualbin'].values\n",
    "red_X_train, red_X_test, red_y_train, red_y_test = train_test_split(red_X, red_y, test_size = 0.3, random_state = 42)"
   ]
  },
  {
   "cell_type": "code",
   "execution_count": 66,
   "metadata": {},
   "outputs": [],
   "source": [
    "# Split data into training and test - white:\n",
    "white_X = white_wine.drop(white_wine[['qualbin']], axis = 1).values\n",
    "white_y = white_wine['qualbin'].values\n",
    "white_X_train, white_X_test, white_y_train, white_y_test = train_test_split(white_X, white_y, test_size = 0.3, random_state = 42)"
   ]
  },
  {
   "cell_type": "code",
   "execution_count": 67,
   "metadata": {},
   "outputs": [],
   "source": [
    "# Feature Scaling:\n",
    "scaler = RobustScaler()\n",
    "red_X_train = scaler.fit_transform(red_X_train)\n",
    "red_X_test = scaler.fit_transform(red_X_test)\n",
    "white_X_train = scaler.fit_transform(white_X_train)\n",
    "white_X_test = scaler.fit_transform(white_X_test)"
   ]
  },
  {
   "cell_type": "code",
   "execution_count": 68,
   "metadata": {},
   "outputs": [
    {
     "name": "stdout",
     "output_type": "stream",
     "text": [
      "Decision Tree Classifier\n",
      "Red:  0.825\n",
      "White:  0.7993197278911565\n"
     ]
    }
   ],
   "source": [
    "#Apply Decision Tree model to the training data and score:\n",
    "red_model = DecisionTreeClassifier()\n",
    "red_model.fit(red_X_train, red_y_train)\n",
    "red_model_score = red_model.score(red_X_test, red_y_test)\n",
    "print('Decision Tree Classifier')\n",
    "print('Red: ', red_model_score)\n",
    "white_model = DecisionTreeClassifier()\n",
    "white_model.fit(white_X_train, white_y_train)\n",
    "white_model_score = white_model.score(white_X_test, white_y_test)\n",
    "print('White: ', white_model_score)"
   ]
  },
  {
   "cell_type": "code",
   "execution_count": 69,
   "metadata": {},
   "outputs": [
    {
     "name": "stdout",
     "output_type": "stream",
     "text": [
      "Red Confusion Matrix\n",
      "[[358  55]\n",
      " [ 29  38]]\n",
      "White Confusion Matrix\n",
      "[[990 151]\n",
      " [144 185]]\n"
     ]
    }
   ],
   "source": [
    "#Predict using the model and create confusion matrix again:\n",
    "print('Red Confusion Matrix')\n",
    "red_y_pred = red_model.predict(red_X_test)\n",
    "print(confusion_matrix(red_y_test, red_y_pred))\n",
    "\n",
    "white_y_pred = white_model.predict(white_X_test)\n",
    "print('White Confusion Matrix')\n",
    "print(confusion_matrix(white_y_test, white_y_pred))"
   ]
  },
  {
   "cell_type": "code",
   "execution_count": 70,
   "metadata": {},
   "outputs": [
    {
     "name": "stdout",
     "output_type": "stream",
     "text": [
      "Random Forest Classifier\n",
      "Red:  0.875\n",
      "White:  0.8755102040816326\n"
     ]
    }
   ],
   "source": [
    "#Apply Random Forest model to the training data and score:\n",
    "red_model = RandomForestClassifier()\n",
    "red_model.fit(red_X_train, red_y_train)\n",
    "red_model_score = red_model.score(red_X_test, red_y_test)\n",
    "print('Random Forest Classifier')\n",
    "print('Red: ', red_model_score)\n",
    "white_model = RandomForestClassifier()\n",
    "white_model.fit(white_X_train, white_y_train)\n",
    "white_model_score = white_model.score(white_X_test, white_y_test)\n",
    "print('White: ', white_model_score)"
   ]
  },
  {
   "cell_type": "code",
   "execution_count": 71,
   "metadata": {},
   "outputs": [
    {
     "name": "stdout",
     "output_type": "stream",
     "text": [
      "Red Confusion Matrix\n",
      "[[397  16]\n",
      " [ 44  23]]\n",
      "White Confusion Matrix\n",
      "[[1099   42]\n",
      " [ 141  188]]\n"
     ]
    }
   ],
   "source": [
    "#Predict using the model and score again:\n",
    "print('Red Confusion Matrix')\n",
    "red_y_pred = red_model.predict(red_X_test)\n",
    "print(confusion_matrix(red_y_test, red_y_pred))\n",
    "\n",
    "white_y_pred = white_model.predict(white_X_test)\n",
    "print('White Confusion Matrix')\n",
    "print(confusion_matrix(white_y_test, white_y_pred))"
   ]
  },
  {
   "cell_type": "code",
   "execution_count": 72,
   "metadata": {},
   "outputs": [
    {
     "name": "stdout",
     "output_type": "stream",
     "text": [
      "Gradient Boosting Classifier\n",
      "Red:  0.8520833333333333\n",
      "White:  0.8333333333333334\n"
     ]
    }
   ],
   "source": [
    "#Apply  Gradient Boosting Classifier model to the training data and score:\n",
    "red_model = GradientBoostingClassifier()\n",
    "red_model.fit(red_X_train, red_y_train)\n",
    "red_model_score = red_model.score(red_X_test, red_y_test)\n",
    "print('Gradient Boosting Classifier')\n",
    "print('Red: ', red_model_score)\n",
    "white_model = GradientBoostingClassifier()\n",
    "white_model.fit(white_X_train, white_y_train)\n",
    "white_model_score = white_model.score(white_X_test, white_y_test)\n",
    "print('White: ', white_model_score)"
   ]
  },
  {
   "cell_type": "code",
   "execution_count": 73,
   "metadata": {},
   "outputs": [
    {
     "name": "stdout",
     "output_type": "stream",
     "text": [
      "Red Confusion Matrix\n",
      "[[390  23]\n",
      " [ 48  19]]\n",
      "White Confusion Matrix\n",
      "[[1079   62]\n",
      " [ 183  146]]\n"
     ]
    }
   ],
   "source": [
    "#Predict using the model and score again:\n",
    "print('Red Confusion Matrix')\n",
    "red_y_pred = red_model.predict(red_X_test)\n",
    "print(confusion_matrix(red_y_test, red_y_pred))\n",
    "\n",
    "white_y_pred = white_model.predict(white_X_test)\n",
    "print('White Confusion Matrix')\n",
    "print(confusion_matrix(white_y_test, white_y_pred))"
   ]
  },
  {
   "cell_type": "code",
   "execution_count": 74,
   "metadata": {},
   "outputs": [
    {
     "name": "stdout",
     "output_type": "stream",
     "text": [
      "Logistic Regression\n",
      "Red:  0.8791666666666667\n",
      "White:  0.7938775510204081\n"
     ]
    }
   ],
   "source": [
    "#Apply Logistic Regression model to the training data and score:\n",
    "red_model = LogisticRegression()\n",
    "red_model.fit(red_X_train, red_y_train)\n",
    "red_model_score = red_model.score(red_X_test, red_y_test)\n",
    "print('Logistic Regression')\n",
    "print('Red: ', red_model_score)\n",
    "white_model = LogisticRegression()\n",
    "white_model.fit(white_X_train, white_y_train)\n",
    "white_model_score = white_model.score(white_X_test, white_y_test)\n",
    "print('White: ', white_model_score)"
   ]
  },
  {
   "cell_type": "code",
   "execution_count": 75,
   "metadata": {},
   "outputs": [
    {
     "name": "stdout",
     "output_type": "stream",
     "text": [
      "Red Confusion Matrix\n",
      "[[404   9]\n",
      " [ 49  18]]\n",
      "White Confusion Matrix\n",
      "[[1074   67]\n",
      " [ 236   93]]\n"
     ]
    }
   ],
   "source": [
    "#Predict using the model and score again:\n",
    "print('Red Confusion Matrix')\n",
    "red_y_pred = red_model.predict(red_X_test)\n",
    "print(confusion_matrix(red_y_test, red_y_pred))\n",
    "\n",
    "white_y_pred = white_model.predict(white_X_test)\n",
    "print('White Confusion Matrix')\n",
    "print(confusion_matrix(white_y_test, white_y_pred))"
   ]
  },
  {
   "cell_type": "code",
   "execution_count": 76,
   "metadata": {},
   "outputs": [
    {
     "name": "stdout",
     "output_type": "stream",
     "text": [
      "KNeighbors Classifier\n",
      "Red:  0.8708333333333333\n",
      "White:  0.8387755102040816\n"
     ]
    }
   ],
   "source": [
    "#Apply KNeighborsClassifier model to the training data and score:\n",
    "red_model = KNeighborsClassifier()\n",
    "red_model.fit(red_X_train, red_y_train)\n",
    "red_model_score = red_model.score(red_X_test, red_y_test)\n",
    "print('KNeighbors Classifier')\n",
    "print('Red: ', red_model_score)\n",
    "white_model = KNeighborsClassifier()\n",
    "white_model.fit(white_X_train, white_y_train)\n",
    "white_model_score = white_model.score(white_X_test, white_y_test)\n",
    "print('White: ', white_model_score)"
   ]
  },
  {
   "cell_type": "code",
   "execution_count": 77,
   "metadata": {},
   "outputs": [
    {
     "name": "stdout",
     "output_type": "stream",
     "text": [
      "Red Confusion Matrix\n",
      "[[392  21]\n",
      " [ 41  26]]\n",
      "White Confusion Matrix\n",
      "[[1051   90]\n",
      " [ 147  182]]\n"
     ]
    }
   ],
   "source": [
    "#Predict using the model and score again:\n",
    "print('Red Confusion Matrix')\n",
    "red_y_pred = red_model.predict(red_X_test)\n",
    "print(confusion_matrix(red_y_test, red_y_pred))\n",
    "\n",
    "white_y_pred = white_model.predict(white_X_test)\n",
    "print('White Confusion Matrix')\n",
    "print(confusion_matrix(white_y_test, white_y_pred))"
   ]
  },
  {
   "cell_type": "code",
   "execution_count": 78,
   "metadata": {},
   "outputs": [
    {
     "name": "stdout",
     "output_type": "stream",
     "text": [
      "GaussianNB Classifier\n",
      "Red:  0.84375\n",
      "White:  0.7034013605442176\n"
     ]
    }
   ],
   "source": [
    "#Apply GaussianNB model to the training data and score:\n",
    "red_model = GaussianNB()\n",
    "red_model.fit(red_X_train, red_y_train)\n",
    "red_model_score = red_model.score(red_X_test, red_y_test)\n",
    "print('GaussianNB Classifier')\n",
    "print('Red: ', red_model_score)\n",
    "white_model = GaussianNB()\n",
    "white_model.fit(white_X_train, white_y_train)\n",
    "white_model_score = white_model.score(white_X_test, white_y_test)\n",
    "print('White: ', white_model_score)"
   ]
  },
  {
   "cell_type": "code",
   "execution_count": 79,
   "metadata": {},
   "outputs": [
    {
     "name": "stdout",
     "output_type": "stream",
     "text": [
      "Red Confusion Matrix\n",
      "[[362  51]\n",
      " [ 24  43]]\n",
      "White Confusion Matrix\n",
      "[[808 333]\n",
      " [103 226]]\n"
     ]
    }
   ],
   "source": [
    "#Predict using the model and score again:\n",
    "print('Red Confusion Matrix')\n",
    "red_y_pred = red_model.predict(red_X_test)\n",
    "print(confusion_matrix(red_y_test, red_y_pred))\n",
    "\n",
    "white_y_pred = white_model.predict(white_X_test)\n",
    "print('White Confusion Matrix')\n",
    "print(confusion_matrix(white_y_test, white_y_pred))"
   ]
  },
  {
   "cell_type": "code",
   "execution_count": 80,
   "metadata": {},
   "outputs": [
    {
     "name": "stdout",
     "output_type": "stream",
     "text": [
      "SVC Classifier\n",
      "Red:  0.88125\n",
      "White:  0.8251700680272109\n"
     ]
    }
   ],
   "source": [
    "#Apply SVC model to the training data and score:\n",
    "red_model = SVC()\n",
    "red_model.fit(red_X_train, red_y_train)\n",
    "red_model_score = red_model.score(red_X_test, red_y_test)\n",
    "print('SVC Classifier')\n",
    "print('Red: ', red_model_score)\n",
    "white_model = SVC()\n",
    "white_model.fit(white_X_train, white_y_train)\n",
    "white_model_score = white_model.score(white_X_test, white_y_test)\n",
    "print('White: ', white_model_score)"
   ]
  },
  {
   "cell_type": "code",
   "execution_count": 81,
   "metadata": {},
   "outputs": [
    {
     "name": "stdout",
     "output_type": "stream",
     "text": [
      "Red Confusion Matrix\n",
      "[[411   2]\n",
      " [ 55  12]]\n",
      "White Confusion Matrix\n",
      "[[1103   38]\n",
      " [ 219  110]]\n"
     ]
    }
   ],
   "source": [
    "#Predict using the model and score again:\n",
    "print('Red Confusion Matrix')\n",
    "red_y_pred = red_model.predict(red_X_test)\n",
    "print(confusion_matrix(red_y_test, red_y_pred))\n",
    "\n",
    "white_y_pred = white_model.predict(white_X_test)\n",
    "print('White Confusion Matrix')\n",
    "print(confusion_matrix(white_y_test, white_y_pred))"
   ]
  },
  {
   "cell_type": "markdown",
   "metadata": {},
   "source": [
    "I applied different ML models above and evaluated their performance for both red and white wine test data and tabulated the scores and put them in a confusion matrix. The Random Forest and SVC models appear to be the best for red wines and Random Forest is the best for white. Since Random Forest is high for both, I will perform a gridsearch hyperparameter tuning for that model as well determine the ROC_AUC scores and ROC curve. To be followed by Feature Importance. "
   ]
  },
  {
   "cell_type": "code",
   "execution_count": 82,
   "metadata": {},
   "outputs": [],
   "source": [
    "#build param grid features\n",
    "n_estimators = [int(x) for x in np.linspace(start = 10, stop = 80, num = 10)]\n",
    "max_features = ['auto', 'sqrt']\n",
    "max_depth = [2, 4]\n",
    "min_sample_split = [2, 5]\n",
    "min_sample_leaf = [1, 2]\n",
    "bootstrap = [True, False]"
   ]
  },
  {
   "cell_type": "code",
   "execution_count": 83,
   "metadata": {},
   "outputs": [
    {
     "name": "stdout",
     "output_type": "stream",
     "text": [
      "{'n_estimators': [10, 17, 25, 33, 41, 48, 56, 64, 72, 80], 'max_features': ['auto', 'sqrt'], 'max_depth': [2, 4], 'min_samples_split': [2, 5], 'min_samples_leaf': [1, 2], 'bootstrap': [True, False]}\n"
     ]
    }
   ],
   "source": [
    "param_grid = {'n_estimators' : n_estimators, \n",
    "              'max_features' : max_features, \n",
    "              'max_depth' : max_depth, \n",
    "              'min_samples_split' : min_sample_split, \n",
    "              'min_samples_leaf' : min_sample_leaf, \n",
    "              'bootstrap' : bootstrap}\n",
    "print(param_grid)"
   ]
  },
  {
   "cell_type": "code",
   "execution_count": 87,
   "metadata": {},
   "outputs": [
    {
     "name": "stdout",
     "output_type": "stream",
     "text": [
      "Red:\n",
      "RandomForestClassifier(max_depth=4, min_samples_leaf=2, n_estimators=72)\n",
      "0.8280810805172524\n",
      "White:\n",
      "RandomForestClassifier(max_depth=4, min_samples_leaf=2, n_estimators=72)\n",
      "0.8280810805172524\n"
     ]
    }
   ],
   "source": [
    "#GridSearchCV\n",
    "rf = RandomForestClassifier()\n",
    "gs = GridSearchCV(estimator = rf, param_grid = param_grid, scoring = 'roc_auc', cv = 3, n_jobs = 4)\n",
    "red_gs = gs.fit(red_X_train, red_y_train)\n",
    "white_gs = gs.fit(white_X_train, white_y_train)\n",
    "\n",
    "print('Red:')\n",
    "print(red_gs.best_estimator_)\n",
    "print(red_gs.best_score_)\n",
    "\n",
    "print('White:')\n",
    "print(white_gs.best_estimator_)\n",
    "print(white_gs.best_score_)\n"
   ]
  },
  {
   "cell_type": "code",
   "execution_count": 88,
   "metadata": {},
   "outputs": [
    {
     "name": "stdout",
     "output_type": "stream",
     "text": [
      "Red:\n",
      "0.8666666666666667\n",
      "0.8676174545407577\n",
      "White:\n",
      "0.7993197278911565\n",
      "0.8254003121039435\n"
     ]
    }
   ],
   "source": [
    "#Fitting the Random forest model with the optimal hyperparameters\n",
    "rf = RandomForestClassifier(n_estimators = 48, max_features = 'sqrt' , max_depth = 4, min_samples_split = 5, bootstrap = False)\n",
    "rf.fit(red_X_train, red_y_train)\n",
    "red_y_pred = rf.predict(red_X_test)\n",
    "red_acc = accuracy_score(red_y_test, red_y_pred)\n",
    "red_cv = cross_val_score(rf, red_X_test, red_y_test, scoring = 'roc_auc').mean()\n",
    "print('Red:')\n",
    "print(red_acc)\n",
    "print(red_cv)\n",
    "\n",
    "print('White:')\n",
    "rf.fit(white_X_train, white_y_train)\n",
    "white_y_pred = rf.predict(white_X_test)\n",
    "white_acc = accuracy_score(white_y_test, white_y_pred)\n",
    "white_cv = cross_val_score(rf, white_X_test, white_y_test, scoring = 'roc_auc').mean()\n",
    "print(white_acc)\n",
    "print(white_cv)"
   ]
  },
  {
   "cell_type": "code",
   "execution_count": 89,
   "metadata": {},
   "outputs": [
    {
     "name": "stdout",
     "output_type": "stream",
     "text": [
      "Feature: 0, Score: 0.02320\n",
      "Feature: 1, Score: 0.06012\n",
      "Feature: 2, Score: 0.03225\n",
      "Feature: 3, Score: 0.04622\n",
      "Feature: 4, Score: 0.11633\n",
      "Feature: 5, Score: 0.02718\n",
      "Feature: 6, Score: 0.04506\n",
      "Feature: 7, Score: 0.19901\n",
      "Feature: 8, Score: 0.04355\n",
      "Feature: 9, Score: 0.02057\n",
      "Feature: 10, Score: 0.38652\n"
     ]
    },
    {
     "data": {
      "image/png": "[encoded data removed]",
      "text/plain": [
       "<Figure size 432x288 with 1 Axes>"
      ]
     },
     "metadata": {
      "needs_background": "light"
     },
     "output_type": "display_data"
    }
   ],
   "source": [
    "# summarize feature importance\n",
    "importance = rf.feature_importances_\n",
    "for i,v in enumerate(importance):\n",
    "\tprint('Feature: %0d, Score: %.5f' % (i,v))\n",
    "# plot feature importance\n",
    "plt.bar([x for x in range(len(importance))], importance)\n",
    "plt.show()"
   ]
  },
  {
   "cell_type": "code",
   "execution_count": 90,
   "metadata": {},
   "outputs": [
    {
     "name": "stdout",
     "output_type": "stream",
     "text": [
      "Red ROC-AUC Score: 0.7865996892053052\n",
      "White ROC-AUC Score: 0.8248550170623006\n"
     ]
    }
   ],
   "source": [
    "#ROC-AUC Score\n",
    "red_y_scores_rf = rf.predict_proba(red_X_test)\n",
    "red_y_scores_rf = red_y_scores_rf[:,1]\n",
    "red_auroc = roc_auc_score(red_y_test, red_y_scores_rf)\n",
    "print(\"Red ROC-AUC Score:\", red_auroc)\n",
    "\n",
    "white_y_scores_rf = rf.predict_proba(white_X_test)\n",
    "white_y_scores_rf = white_y_scores_rf[:,1]\n",
    "white_auroc = roc_auc_score(white_y_test, white_y_scores_rf)\n",
    "print(\"White ROC-AUC Score:\", white_auroc)"
   ]
  },
  {
   "cell_type": "code",
   "execution_count": 100,
   "metadata": {},
   "outputs": [
    {
     "name": "stdout",
     "output_type": "stream",
     "text": [
      "White wine\n"
     ]
    },
    {
     "data": {
      "image/png": "[encoded data removed]",
      "text/plain": [
       "<Figure size 720x360 with 1 Axes>"
      ]
     },
     "metadata": {
      "needs_background": "light"
     },
     "output_type": "display_data"
    }
   ],
   "source": [
    "false_positive_rate, true_positive_rate, thresholds = roc_curve(white_y_test, white_y_scores_rf)\n",
    "def plot_roc_curve(false_positive_rate, true_positive_rate, label=None):\n",
    "    plt.plot(false_positive_rate, true_positive_rate, linewidth=2, label=label)\n",
    "    plt.plot([0, 1], [0, 1], 'r', linewidth=4)\n",
    "    plt.axis([0, 1, 0, 1])\n",
    "    plt.xlabel('False Positive Rate (FPR)', fontsize=15)\n",
    "    plt.ylabel('True Positive Rate (TPR)', fontsize=15)\n",
    "    plt.title('ROC curve (RF)',fontsize=15)\n",
    "\n",
    "print('White wine')\n",
    "plt.figure(figsize=(10, 5))\n",
    "plot_roc_curve(false_positive_rate, true_positive_rate)\n",
    "plt.savefig(\"white_roc_curve_RF.jpg\")\n",
    "plt.show()"
   ]
  },
  {
   "cell_type": "code",
   "execution_count": 101,
   "metadata": {},
   "outputs": [
    {
     "name": "stdout",
     "output_type": "stream",
     "text": [
      "Red wine\n"
     ]
    },
    {
     "data": {
      "image/png": "[encoded data removed]",
      "text/plain": [
       "<Figure size 720x360 with 1 Axes>"
      ]
     },
     "metadata": {
      "needs_background": "light"
     },
     "output_type": "display_data"
    }
   ],
   "source": [
    "false_positive_rate, true_positive_rate, thresholds = roc_curve(red_y_test, red_y_scores_rf)\n",
    "print('Red wine')\n",
    "plt.figure(figsize=(10, 5))\n",
    "plot_roc_curve(false_positive_rate, true_positive_rate)\n",
    "plt.savefig(\"red_roc_curve_RF.jpg\")\n",
    "plt.show()"
   ]
  }
 ],
 "metadata": {
  "kernelspec": {
   "display_name": "Python 3",
   "language": "python",
   "name": "python3"
  },
  "language_info": {
   "codemirror_mode": {
    "name": "ipython",
    "version": 3
   },
   "file_extension": ".py",
   "mimetype": "text/x-python",
   "name": "python",
   "nbconvert_exporter": "python",
   "pygments_lexer": "ipython3",
   "version": "3.8.3"
  }
 },
 "nbformat": 4,
 "nbformat_minor": 4
}

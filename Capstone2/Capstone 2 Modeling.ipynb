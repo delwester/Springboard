{
 "cells": [
  {
   "cell_type": "code",
   "execution_count": 75,
   "metadata": {},
   "outputs": [],
   "source": [
    "#Import packages:\n",
    "import os\n",
    "import pandas as pd\n",
    "from datetime import datetime,timedelta\n",
    "import seaborn as sns\n",
    "import matplotlib.pyplot as plt\n",
    "import numpy as np\n",
    "from sklearn.preprocessing import RobustScaler\n",
    "from sklearn.linear_model import LogisticRegression\n",
    "from sklearn.model_selection import train_test_split, cross_val_score, GridSearchCV, validation_curve, StratifiedShuffleSplit\n",
    "from sklearn.neighbors import KNeighborsClassifier\n",
    "from sklearn.svm import SVC\n",
    "from sklearn.ensemble import GradientBoostingClassifier, RandomForestClassifier, RandomForestRegressor\n",
    "from sklearn.tree import DecisionTreeClassifier\n",
    "from sklearn.naive_bayes import GaussianNB\n",
    "from sklearn.metrics import auc, roc_curve, roc_auc_score, accuracy_score, confusion_matrix, r2_score, classification_report\n",
    "from sklearn.datasets import make_classification \n",
    "from sklearn.inspection import permutation_importance\n"
   ]
  },
  {
   "cell_type": "code",
   "execution_count": 76,
   "metadata": {},
   "outputs": [],
   "source": [
    "#import data\n",
    "redimportedData ='red_wine_processed.csv'\n",
    "red_wine = pd.read_csv(redimportedData, index_col = False)\n",
    "red_wine = red_wine.drop(columns='Unnamed: 0', axis = 1)\n",
    "whiteimportedData ='white_wine_processed.csv'\n",
    "white_wine = pd.read_csv(whiteimportedData, index_col = False)\n",
    "white_wine = white_wine.drop(columns='Unnamed: 0', axis = 1)"
   ]
  },
  {
   "cell_type": "code",
   "execution_count": 77,
   "metadata": {},
   "outputs": [
    {
     "data": {
      "text/html": [
       "<div>\n",
       "<style scoped>\n",
       "    .dataframe tbody tr th:only-of-type {\n",
       "        vertical-align: middle;\n",
       "    }\n",
       "\n",
       "    .dataframe tbody tr th {\n",
       "        vertical-align: top;\n",
       "    }\n",
       "\n",
       "    .dataframe thead th {\n",
       "        text-align: right;\n",
       "    }\n",
       "</style>\n",
       "<table border=\"1\" class=\"dataframe\">\n",
       "  <thead>\n",
       "    <tr style=\"text-align: right;\">\n",
       "      <th></th>\n",
       "      <th>fixed_acidity</th>\n",
       "      <th>volatile_acidity</th>\n",
       "      <th>citric_acid</th>\n",
       "      <th>residual_sugar</th>\n",
       "      <th>chlorides</th>\n",
       "      <th>free_sulfur_dioxide</th>\n",
       "      <th>total_sulfur_dioxide</th>\n",
       "      <th>density</th>\n",
       "      <th>pH</th>\n",
       "      <th>sulphates</th>\n",
       "      <th>alcohol</th>\n",
       "      <th>qual_bin</th>\n",
       "    </tr>\n",
       "  </thead>\n",
       "  <tbody>\n",
       "    <tr>\n",
       "      <th>0</th>\n",
       "      <td>7.4</td>\n",
       "      <td>0.70</td>\n",
       "      <td>0.00</td>\n",
       "      <td>1.9</td>\n",
       "      <td>0.076</td>\n",
       "      <td>11.0</td>\n",
       "      <td>34.0</td>\n",
       "      <td>0.9978</td>\n",
       "      <td>3.51</td>\n",
       "      <td>0.56</td>\n",
       "      <td>9.4</td>\n",
       "      <td>0</td>\n",
       "    </tr>\n",
       "    <tr>\n",
       "      <th>1</th>\n",
       "      <td>7.8</td>\n",
       "      <td>0.88</td>\n",
       "      <td>0.00</td>\n",
       "      <td>2.6</td>\n",
       "      <td>0.098</td>\n",
       "      <td>25.0</td>\n",
       "      <td>67.0</td>\n",
       "      <td>0.9968</td>\n",
       "      <td>3.20</td>\n",
       "      <td>0.68</td>\n",
       "      <td>9.8</td>\n",
       "      <td>0</td>\n",
       "    </tr>\n",
       "    <tr>\n",
       "      <th>2</th>\n",
       "      <td>7.8</td>\n",
       "      <td>0.76</td>\n",
       "      <td>0.04</td>\n",
       "      <td>2.3</td>\n",
       "      <td>0.092</td>\n",
       "      <td>15.0</td>\n",
       "      <td>54.0</td>\n",
       "      <td>0.9970</td>\n",
       "      <td>3.26</td>\n",
       "      <td>0.65</td>\n",
       "      <td>9.8</td>\n",
       "      <td>0</td>\n",
       "    </tr>\n",
       "    <tr>\n",
       "      <th>3</th>\n",
       "      <td>11.2</td>\n",
       "      <td>0.28</td>\n",
       "      <td>0.56</td>\n",
       "      <td>1.9</td>\n",
       "      <td>0.075</td>\n",
       "      <td>17.0</td>\n",
       "      <td>60.0</td>\n",
       "      <td>0.9980</td>\n",
       "      <td>3.16</td>\n",
       "      <td>0.58</td>\n",
       "      <td>9.8</td>\n",
       "      <td>0</td>\n",
       "    </tr>\n",
       "    <tr>\n",
       "      <th>4</th>\n",
       "      <td>7.4</td>\n",
       "      <td>0.70</td>\n",
       "      <td>0.00</td>\n",
       "      <td>1.9</td>\n",
       "      <td>0.076</td>\n",
       "      <td>11.0</td>\n",
       "      <td>34.0</td>\n",
       "      <td>0.9978</td>\n",
       "      <td>3.51</td>\n",
       "      <td>0.56</td>\n",
       "      <td>9.4</td>\n",
       "      <td>0</td>\n",
       "    </tr>\n",
       "  </tbody>\n",
       "</table>\n",
       "</div>"
      ],
      "text/plain": [
       "   fixed_acidity  volatile_acidity  citric_acid  residual_sugar  chlorides  \\\n",
       "0            7.4              0.70         0.00             1.9      0.076   \n",
       "1            7.8              0.88         0.00             2.6      0.098   \n",
       "2            7.8              0.76         0.04             2.3      0.092   \n",
       "3           11.2              0.28         0.56             1.9      0.075   \n",
       "4            7.4              0.70         0.00             1.9      0.076   \n",
       "\n",
       "   free_sulfur_dioxide  total_sulfur_dioxide  density    pH  sulphates  \\\n",
       "0                 11.0                  34.0   0.9978  3.51       0.56   \n",
       "1                 25.0                  67.0   0.9968  3.20       0.68   \n",
       "2                 15.0                  54.0   0.9970  3.26       0.65   \n",
       "3                 17.0                  60.0   0.9980  3.16       0.58   \n",
       "4                 11.0                  34.0   0.9978  3.51       0.56   \n",
       "\n",
       "   alcohol  qual_bin  \n",
       "0      9.4         0  \n",
       "1      9.8         0  \n",
       "2      9.8         0  \n",
       "3      9.8         0  \n",
       "4      9.4         0  "
      ]
     },
     "execution_count": 77,
     "metadata": {},
     "output_type": "execute_result"
    }
   ],
   "source": [
    "red_wine.head()"
   ]
  },
  {
   "cell_type": "code",
   "execution_count": 78,
   "metadata": {},
   "outputs": [
    {
     "data": {
      "text/html": [
       "<div>\n",
       "<style scoped>\n",
       "    .dataframe tbody tr th:only-of-type {\n",
       "        vertical-align: middle;\n",
       "    }\n",
       "\n",
       "    .dataframe tbody tr th {\n",
       "        vertical-align: top;\n",
       "    }\n",
       "\n",
       "    .dataframe thead th {\n",
       "        text-align: right;\n",
       "    }\n",
       "</style>\n",
       "<table border=\"1\" class=\"dataframe\">\n",
       "  <thead>\n",
       "    <tr style=\"text-align: right;\">\n",
       "      <th></th>\n",
       "      <th>fixed_acidity</th>\n",
       "      <th>volatile_acidity</th>\n",
       "      <th>citric_acid</th>\n",
       "      <th>residual_sugar</th>\n",
       "      <th>chlorides</th>\n",
       "      <th>free_sulfur_dioxide</th>\n",
       "      <th>total_sulfur_dioxide</th>\n",
       "      <th>density</th>\n",
       "      <th>pH</th>\n",
       "      <th>sulphates</th>\n",
       "      <th>alcohol</th>\n",
       "      <th>qual_bin</th>\n",
       "    </tr>\n",
       "  </thead>\n",
       "  <tbody>\n",
       "    <tr>\n",
       "      <th>0</th>\n",
       "      <td>7.0</td>\n",
       "      <td>0.27</td>\n",
       "      <td>0.36</td>\n",
       "      <td>20.7</td>\n",
       "      <td>0.045</td>\n",
       "      <td>45.0</td>\n",
       "      <td>170.0</td>\n",
       "      <td>1.0010</td>\n",
       "      <td>3.00</td>\n",
       "      <td>0.45</td>\n",
       "      <td>8.8</td>\n",
       "      <td>0</td>\n",
       "    </tr>\n",
       "    <tr>\n",
       "      <th>1</th>\n",
       "      <td>6.3</td>\n",
       "      <td>0.30</td>\n",
       "      <td>0.34</td>\n",
       "      <td>1.6</td>\n",
       "      <td>0.049</td>\n",
       "      <td>14.0</td>\n",
       "      <td>132.0</td>\n",
       "      <td>0.9940</td>\n",
       "      <td>3.30</td>\n",
       "      <td>0.49</td>\n",
       "      <td>9.5</td>\n",
       "      <td>0</td>\n",
       "    </tr>\n",
       "    <tr>\n",
       "      <th>2</th>\n",
       "      <td>8.1</td>\n",
       "      <td>0.28</td>\n",
       "      <td>0.40</td>\n",
       "      <td>6.9</td>\n",
       "      <td>0.050</td>\n",
       "      <td>30.0</td>\n",
       "      <td>97.0</td>\n",
       "      <td>0.9951</td>\n",
       "      <td>3.26</td>\n",
       "      <td>0.44</td>\n",
       "      <td>10.1</td>\n",
       "      <td>0</td>\n",
       "    </tr>\n",
       "    <tr>\n",
       "      <th>3</th>\n",
       "      <td>7.2</td>\n",
       "      <td>0.23</td>\n",
       "      <td>0.32</td>\n",
       "      <td>8.5</td>\n",
       "      <td>0.058</td>\n",
       "      <td>47.0</td>\n",
       "      <td>186.0</td>\n",
       "      <td>0.9956</td>\n",
       "      <td>3.19</td>\n",
       "      <td>0.40</td>\n",
       "      <td>9.9</td>\n",
       "      <td>0</td>\n",
       "    </tr>\n",
       "    <tr>\n",
       "      <th>4</th>\n",
       "      <td>7.2</td>\n",
       "      <td>0.23</td>\n",
       "      <td>0.32</td>\n",
       "      <td>8.5</td>\n",
       "      <td>0.058</td>\n",
       "      <td>47.0</td>\n",
       "      <td>186.0</td>\n",
       "      <td>0.9956</td>\n",
       "      <td>3.19</td>\n",
       "      <td>0.40</td>\n",
       "      <td>9.9</td>\n",
       "      <td>0</td>\n",
       "    </tr>\n",
       "  </tbody>\n",
       "</table>\n",
       "</div>"
      ],
      "text/plain": [
       "   fixed_acidity  volatile_acidity  citric_acid  residual_sugar  chlorides  \\\n",
       "0            7.0              0.27         0.36            20.7      0.045   \n",
       "1            6.3              0.30         0.34             1.6      0.049   \n",
       "2            8.1              0.28         0.40             6.9      0.050   \n",
       "3            7.2              0.23         0.32             8.5      0.058   \n",
       "4            7.2              0.23         0.32             8.5      0.058   \n",
       "\n",
       "   free_sulfur_dioxide  total_sulfur_dioxide  density    pH  sulphates  \\\n",
       "0                 45.0                 170.0   1.0010  3.00       0.45   \n",
       "1                 14.0                 132.0   0.9940  3.30       0.49   \n",
       "2                 30.0                  97.0   0.9951  3.26       0.44   \n",
       "3                 47.0                 186.0   0.9956  3.19       0.40   \n",
       "4                 47.0                 186.0   0.9956  3.19       0.40   \n",
       "\n",
       "   alcohol  qual_bin  \n",
       "0      8.8         0  \n",
       "1      9.5         0  \n",
       "2     10.1         0  \n",
       "3      9.9         0  \n",
       "4      9.9         0  "
      ]
     },
     "execution_count": 78,
     "metadata": {},
     "output_type": "execute_result"
    }
   ],
   "source": [
    "white_wine.head()"
   ]
  },
  {
   "cell_type": "code",
   "execution_count": 79,
   "metadata": {},
   "outputs": [],
   "source": [
    "red_X_train, red_X_test, red_y_train, red_y_test = train_test_split(red_wine.drop(columns='qual_bin'), \n",
    "                                                    red_wine.qual_bin, test_size=0.3, random_state=47, shuffle=True)\n",
    "white_X_train, white_X_test, white_y_train, white_y_test = train_test_split(white_wine.drop(columns='qual_bin'), \n",
    "                                                    white_wine.qual_bin, test_size=0.3, random_state=47, shuffle=True)"
   ]
  },
  {
   "cell_type": "code",
   "execution_count": 80,
   "metadata": {},
   "outputs": [
    {
     "data": {
      "text/plain": [
       "((1119, 11), (480, 11))"
      ]
     },
     "execution_count": 80,
     "metadata": {},
     "output_type": "execute_result"
    }
   ],
   "source": [
    "red_X_train.shape, red_X_test.shape"
   ]
  },
  {
   "cell_type": "code",
   "execution_count": 81,
   "metadata": {},
   "outputs": [
    {
     "data": {
      "text/plain": [
       "((3428, 11), (1470, 11))"
      ]
     },
     "execution_count": 81,
     "metadata": {},
     "output_type": "execute_result"
    }
   ],
   "source": [
    "white_X_train.shape, white_X_test.shape"
   ]
  },
  {
   "cell_type": "code",
   "execution_count": 82,
   "metadata": {},
   "outputs": [
    {
     "name": "stdout",
     "output_type": "stream",
     "text": [
      "Decision Tree Classifier\n",
      "Red:  0.8625\n",
      "White:  0.8312925170068027\n"
     ]
    }
   ],
   "source": [
    "#Apply Decision Tree model to the training data and score:\n",
    "red_model = DecisionTreeClassifier()\n",
    "red_model.fit(red_X_train, red_y_train)\n",
    "red_model_score = red_model.score(red_X_test, red_y_test)\n",
    "print('Decision Tree Classifier')\n",
    "print('Red: ', red_model_score)\n",
    "white_model = DecisionTreeClassifier()\n",
    "white_model.fit(white_X_train, white_y_train)\n",
    "white_model_score = white_model.score(white_X_test, white_y_test)\n",
    "print('White: ', white_model_score)"
   ]
  },
  {
   "cell_type": "code",
   "execution_count": 83,
   "metadata": {},
   "outputs": [
    {
     "name": "stdout",
     "output_type": "stream",
     "text": [
      "Red Confusion Matrix\n",
      "[[378  32]\n",
      " [ 34  36]]\n",
      "White Confusion Matrix\n",
      "[[1041  125]\n",
      " [ 123  181]]\n"
     ]
    }
   ],
   "source": [
    "#Predict using the model and create confusion matrix again:\n",
    "print('Red Confusion Matrix')\n",
    "red_y_pred = red_model.predict(red_X_test)\n",
    "print(confusion_matrix(red_y_test, red_y_pred))\n",
    "\n",
    "white_y_pred = white_model.predict(white_X_test)\n",
    "print('White Confusion Matrix')\n",
    "print(confusion_matrix(white_y_test, white_y_pred))"
   ]
  },
  {
   "cell_type": "code",
   "execution_count": 84,
   "metadata": {},
   "outputs": [
    {
     "name": "stdout",
     "output_type": "stream",
     "text": [
      "Random Forest Classifier\n",
      "Red:  0.9\n",
      "White:  0.8795918367346939\n"
     ]
    }
   ],
   "source": [
    "#Apply Random Forest model to the training data and score:\n",
    "red_model = RandomForestClassifier()\n",
    "red_model.fit(red_X_train, red_y_train)\n",
    "red_model_score = red_model.score(red_X_test, red_y_test)\n",
    "print('Random Forest Classifier')\n",
    "print('Red: ', red_model_score)\n",
    "white_model = RandomForestClassifier()\n",
    "white_model.fit(white_X_train, white_y_train)\n",
    "white_model_score = white_model.score(white_X_test, white_y_test)\n",
    "print('White: ', white_model_score)"
   ]
  },
  {
   "cell_type": "code",
   "execution_count": 85,
   "metadata": {},
   "outputs": [
    {
     "name": "stdout",
     "output_type": "stream",
     "text": [
      "Red Confusion Matrix\n",
      "[[400  10]\n",
      " [ 38  32]]\n",
      "White Confusion Matrix\n",
      "[[1127   39]\n",
      " [ 138  166]]\n"
     ]
    }
   ],
   "source": [
    "#Predict using the model and score again:\n",
    "print('Red Confusion Matrix')\n",
    "red_y_pred = red_model.predict(red_X_test)\n",
    "print(confusion_matrix(red_y_test, red_y_pred))\n",
    "\n",
    "white_y_pred = white_model.predict(white_X_test)\n",
    "print('White Confusion Matrix')\n",
    "print(confusion_matrix(white_y_test, white_y_pred))"
   ]
  },
  {
   "cell_type": "code",
   "execution_count": 86,
   "metadata": {},
   "outputs": [
    {
     "name": "stdout",
     "output_type": "stream",
     "text": [
      "Gradient Boosting Classifier\n",
      "Red:  0.8854166666666666\n",
      "White:  0.8394557823129252\n"
     ]
    }
   ],
   "source": [
    "#Apply  Gradient Boosting Classifier model to the training data and score:\n",
    "red_model = GradientBoostingClassifier()\n",
    "red_model.fit(red_X_train, red_y_train)\n",
    "red_model_score = red_model.score(red_X_test, red_y_test)\n",
    "print('Gradient Boosting Classifier')\n",
    "print('Red: ', red_model_score)\n",
    "white_model = GradientBoostingClassifier()\n",
    "white_model.fit(white_X_train, white_y_train)\n",
    "white_model_score = white_model.score(white_X_test, white_y_test)\n",
    "print('White: ', white_model_score)"
   ]
  },
  {
   "cell_type": "code",
   "execution_count": 87,
   "metadata": {},
   "outputs": [
    {
     "name": "stdout",
     "output_type": "stream",
     "text": [
      "Red Confusion Matrix\n",
      "[[391  19]\n",
      " [ 36  34]]\n",
      "White Confusion Matrix\n",
      "[[1109   57]\n",
      " [ 179  125]]\n"
     ]
    }
   ],
   "source": [
    "#Predict using the model and score again:\n",
    "print('Red Confusion Matrix')\n",
    "red_y_pred = red_model.predict(red_X_test)\n",
    "print(confusion_matrix(red_y_test, red_y_pred))\n",
    "\n",
    "white_y_pred = white_model.predict(white_X_test)\n",
    "print('White Confusion Matrix')\n",
    "print(confusion_matrix(white_y_test, white_y_pred))"
   ]
  },
  {
   "cell_type": "code",
   "execution_count": 88,
   "metadata": {},
   "outputs": [
    {
     "name": "stdout",
     "output_type": "stream",
     "text": [
      "KNeighbors Classifier\n",
      "Red:  0.8708333333333333\n",
      "White:  0.7727891156462585\n"
     ]
    }
   ],
   "source": [
    "#Apply KNeighborsClassifier model to the training data and score:\n",
    "red_model = KNeighborsClassifier()\n",
    "red_model.fit(red_X_train, red_y_train)\n",
    "red_model_score = red_model.score(red_X_test, red_y_test)\n",
    "print('KNeighbors Classifier')\n",
    "print('Red: ', red_model_score)\n",
    "white_model = KNeighborsClassifier()\n",
    "white_model.fit(white_X_train, white_y_train)\n",
    "white_model_score = white_model.score(white_X_test, white_y_test)\n",
    "print('White: ', white_model_score)"
   ]
  },
  {
   "cell_type": "code",
   "execution_count": 89,
   "metadata": {},
   "outputs": [
    {
     "name": "stdout",
     "output_type": "stream",
     "text": [
      "Red Confusion Matrix\n",
      "[[400  10]\n",
      " [ 52  18]]\n",
      "White Confusion Matrix\n",
      "[[1050  116]\n",
      " [ 218   86]]\n"
     ]
    }
   ],
   "source": [
    "#Predict using the model and score again:\n",
    "print('Red Confusion Matrix')\n",
    "red_y_pred = red_model.predict(red_X_test)\n",
    "print(confusion_matrix(red_y_test, red_y_pred))\n",
    "\n",
    "white_y_pred = white_model.predict(white_X_test)\n",
    "print('White Confusion Matrix')\n",
    "print(confusion_matrix(white_y_test, white_y_pred))"
   ]
  },
  {
   "cell_type": "code",
   "execution_count": 90,
   "metadata": {},
   "outputs": [
    {
     "name": "stdout",
     "output_type": "stream",
     "text": [
      "GaussianNB Classifier\n",
      "Red:  0.8625\n",
      "White:  0.746938775510204\n"
     ]
    }
   ],
   "source": [
    "#Apply GaussianNB model to the training data and score:\n",
    "red_model = GaussianNB()\n",
    "red_model.fit(red_X_train, red_y_train)\n",
    "red_model_score = red_model.score(red_X_test, red_y_test)\n",
    "print('GaussianNB Classifier')\n",
    "print('Red: ', red_model_score)\n",
    "white_model = GaussianNB()\n",
    "white_model.fit(white_X_train, white_y_train)\n",
    "white_model_score = white_model.score(white_X_test, white_y_test)\n",
    "print('White: ', white_model_score)"
   ]
  },
  {
   "cell_type": "code",
   "execution_count": 91,
   "metadata": {},
   "outputs": [
    {
     "name": "stdout",
     "output_type": "stream",
     "text": [
      "Red Confusion Matrix\n",
      "[[366  44]\n",
      " [ 22  48]]\n",
      "White Confusion Matrix\n",
      "[[880 286]\n",
      " [ 86 218]]\n"
     ]
    }
   ],
   "source": [
    "#Predict using the model and score again:\n",
    "print('Red Confusion Matrix')\n",
    "red_y_pred = red_model.predict(red_X_test)\n",
    "print(confusion_matrix(red_y_test, red_y_pred))\n",
    "\n",
    "white_y_pred = white_model.predict(white_X_test)\n",
    "print('White Confusion Matrix')\n",
    "print(confusion_matrix(white_y_test, white_y_pred))"
   ]
  },
  {
   "cell_type": "code",
   "execution_count": 92,
   "metadata": {},
   "outputs": [
    {
     "name": "stdout",
     "output_type": "stream",
     "text": [
      "SVC Classifier\n",
      "Red:  0.85625\n",
      "White:  0.7931972789115647\n"
     ]
    }
   ],
   "source": [
    "#Apply SVC model to the training data and score:\n",
    "red_model = SVC()\n",
    "red_model.fit(red_X_train, red_y_train)\n",
    "red_model_score = red_model.score(red_X_test, red_y_test)\n",
    "print('SVC Classifier')\n",
    "print('Red: ', red_model_score)\n",
    "white_model = SVC()\n",
    "white_model.fit(white_X_train, white_y_train)\n",
    "white_model_score = white_model.score(white_X_test, white_y_test)\n",
    "print('White: ', white_model_score)"
   ]
  },
  {
   "cell_type": "code",
   "execution_count": 93,
   "metadata": {},
   "outputs": [
    {
     "name": "stdout",
     "output_type": "stream",
     "text": [
      "Red Confusion Matrix\n",
      "[[410   0]\n",
      " [ 69   1]]\n",
      "White Confusion Matrix\n",
      "[[1166    0]\n",
      " [ 304    0]]\n"
     ]
    }
   ],
   "source": [
    "#Predict using the model and score again:\n",
    "print('Red Confusion Matrix')\n",
    "red_y_pred = red_model.predict(red_X_test)\n",
    "print(confusion_matrix(red_y_test, red_y_pred))\n",
    "\n",
    "white_y_pred = white_model.predict(white_X_test)\n",
    "print('White Confusion Matrix')\n",
    "print(confusion_matrix(white_y_test, white_y_pred))"
   ]
  },
  {
   "cell_type": "markdown",
   "metadata": {},
   "source": [
    "I applied different ML models above and evaluated their performance for both red and white wine test data and tabulated the scores and put them in a confusion matrix. The Random Forest model appears to be the best for both red and white wines. So, I will perform a gridsearch hyperparameter tuning for that model as well determine the ROC_AUC scores and ROC curve."
   ]
  },
  {
   "cell_type": "code",
   "execution_count": 94,
   "metadata": {},
   "outputs": [],
   "source": [
    "#build param grid features\n",
    "n_estimators = [int(x) for x in np.linspace(start = 10, stop = 80, num = 10)]\n",
    "max_features = ['auto', 'sqrt']\n",
    "max_depth = [2, 4]\n",
    "min_sample_split = [2, 5]\n",
    "min_sample_leaf = [1, 2]\n",
    "bootstrap = [True, False]"
   ]
  },
  {
   "cell_type": "code",
   "execution_count": 95,
   "metadata": {},
   "outputs": [
    {
     "name": "stdout",
     "output_type": "stream",
     "text": [
      "{'n_estimators': [10, 17, 25, 33, 41, 48, 56, 64, 72, 80], 'max_features': ['auto', 'sqrt'], 'max_depth': [2, 4], 'min_samples_split': [2, 5], 'min_samples_leaf': [1, 2], 'bootstrap': [True, False]}\n"
     ]
    }
   ],
   "source": [
    "param_grid = {'n_estimators' : n_estimators, \n",
    "              'max_features' : max_features, \n",
    "              'max_depth' : max_depth, \n",
    "              'min_samples_split' : min_sample_split, \n",
    "              'min_samples_leaf' : min_sample_leaf, \n",
    "              'bootstrap' : bootstrap}\n",
    "print(param_grid)"
   ]
  },
  {
   "cell_type": "code",
   "execution_count": 96,
   "metadata": {},
   "outputs": [
    {
     "name": "stdout",
     "output_type": "stream",
     "text": [
      "Red:\n",
      "RandomForestClassifier(max_depth=4, n_estimators=56)\n",
      "0.8263320590723836\n",
      "White:\n",
      "RandomForestClassifier(max_depth=4, n_estimators=56)\n",
      "0.8263320590723836\n"
     ]
    }
   ],
   "source": [
    "#GridSearchCV\n",
    "rf = RandomForestClassifier()\n",
    "gs = GridSearchCV(estimator = rf, param_grid = param_grid, scoring = 'roc_auc', cv = 3, n_jobs = 4)\n",
    "red_gs = gs.fit(red_X_train, red_y_train)\n",
    "white_gs = gs.fit(white_X_train, white_y_train)\n",
    "\n",
    "print('Red:')\n",
    "print(red_gs.best_estimator_)\n",
    "print(red_gs.best_score_)\n",
    "\n",
    "print('White:')\n",
    "print(white_gs.best_estimator_)\n",
    "print(white_gs.best_score_)\n"
   ]
  },
  {
   "cell_type": "code",
   "execution_count": 97,
   "metadata": {},
   "outputs": [
    {
     "name": "stdout",
     "output_type": "stream",
     "text": [
      "Red:\n",
      "Accuracy Score:  0.8729166666666667\n",
      "CV Score:  0.8803135888501743\n",
      " \n",
      "White:\n",
      "Accuracy Score:  0.8142857142857143\n",
      "CV Score:  0.8275765796050043\n"
     ]
    }
   ],
   "source": [
    "#Fitting the Random forest model with the optimal hyperparameters\n",
    "rf = RandomForestClassifier(n_estimators = 48, max_features = 'sqrt' , max_depth = 4, min_samples_split = 5, bootstrap = False)\n",
    "rf.fit(red_X_train, red_y_train)\n",
    "red_y_pred = rf.predict(red_X_test)\n",
    "red_acc = accuracy_score(red_y_test, red_y_pred)\n",
    "red_cv = cross_val_score(rf, red_X_test, red_y_test, scoring = 'roc_auc').mean()\n",
    "print('Red:')\n",
    "print(\"Accuracy Score: \", red_acc)\n",
    "print(\"CV Score: \", red_cv)\n",
    "print(\" \")\n",
    "print('White:')\n",
    "rf.fit(white_X_train, white_y_train)\n",
    "white_y_pred = rf.predict(white_X_test)\n",
    "white_acc = accuracy_score(white_y_test, white_y_pred)\n",
    "white_cv = cross_val_score(rf, white_X_test, white_y_test, scoring = 'roc_auc').mean()\n",
    "print(\"Accuracy Score: \", white_acc)\n",
    "print(\"CV Score: \", white_cv)"
   ]
  },
  {
   "cell_type": "markdown",
   "metadata": {},
   "source": [
    "With wines, you want a high accuracy"
   ]
  },
  {
   "cell_type": "code",
   "execution_count": 98,
   "metadata": {},
   "outputs": [
    {
     "name": "stdout",
     "output_type": "stream",
     "text": [
      "Red ROC-AUC Score: 0.7567247386759581\n",
      "White ROC-AUC Score: 0.8516563036020584\n"
     ]
    }
   ],
   "source": [
    "#ROC-AUC Score\n",
    "red_y_scores_rf = rf.predict_proba(red_X_test)\n",
    "red_y_scores_rf = red_y_scores_rf[:,1]\n",
    "red_auroc = roc_auc_score(red_y_test, red_y_scores_rf)\n",
    "print(\"Red ROC-AUC Score:\", red_auroc)\n",
    "\n",
    "white_y_scores_rf = rf.predict_proba(white_X_test)\n",
    "white_y_scores_rf = white_y_scores_rf[:,1]\n",
    "white_auroc = roc_auc_score(white_y_test, white_y_scores_rf)\n",
    "print(\"White ROC-AUC Score:\", white_auroc)"
   ]
  },
  {
   "cell_type": "code",
   "execution_count": 99,
   "metadata": {},
   "outputs": [
    {
     "name": "stdout",
     "output_type": "stream",
     "text": [
      "Red wine\n"
     ]
    },
    {
     "data": {
      "image/png": "[encoded data removed]",
      "text/plain": [
       "<Figure size 720x360 with 1 Axes>"
      ]
     },
     "metadata": {
      "needs_background": "light"
     },
     "output_type": "display_data"
    }
   ],
   "source": [
    "false_positive_rate, true_positive_rate, thresholds = roc_curve(red_y_test, red_y_scores_rf)\n",
    "def plot_roc_curve(false_positive_rate, true_positive_rate, label=None):\n",
    "    plt.plot(false_positive_rate, true_positive_rate, linewidth=2, label=label)\n",
    "    plt.plot([0, 1], [0, 1], 'r', linewidth=4)\n",
    "    plt.axis([0, 1, 0, 1])\n",
    "    plt.xlabel('False Positive Rate (FPR)', fontsize=15)\n",
    "    plt.ylabel('True Positive Rate (TPR)', fontsize=15)\n",
    "    plt.title('ROC curve (RF)',fontsize=15)\n",
    "\n",
    "print('Red wine')\n",
    "plt.figure(figsize=(10, 5))\n",
    "plot_roc_curve(false_positive_rate, true_positive_rate)\n",
    "plt.savefig(\"red_roc_curve_RF.jpg\")\n",
    "plt.show()\n",
    "# TPR starts leveling off around .3 FPR"
   ]
  },
  {
   "cell_type": "code",
   "execution_count": 100,
   "metadata": {},
   "outputs": [
    {
     "name": "stdout",
     "output_type": "stream",
     "text": [
      "White wine\n"
     ]
    },
    {
     "data": {
      "image/png": "[encoded data removed]",
      "text/plain": [
       "<Figure size 720x360 with 1 Axes>"
      ]
     },
     "metadata": {
      "needs_background": "light"
     },
     "output_type": "display_data"
    }
   ],
   "source": [
    "false_positive_rate, true_positive_rate, thresholds = roc_curve(white_y_test, white_y_scores_rf)\n",
    "print('White wine')\n",
    "plt.figure(figsize=(10, 5))\n",
    "plot_roc_curve(false_positive_rate, true_positive_rate)\n",
    "plt.savefig(\"white_roc_curve_RF.jpg\")\n",
    "plt.show()\n",
    "# TPR starts leveling off around .2 FPR"
   ]
  },
  {
   "cell_type": "code",
   "execution_count": 101,
   "metadata": {},
   "outputs": [
    {
     "name": "stdout",
     "output_type": "stream",
     "text": [
      "Red: \n",
      "              precision    recall  f1-score   support\n",
      "\n",
      "           0       0.88      0.98      0.93       410\n",
      "           1       0.70      0.23      0.34        70\n",
      "\n",
      "    accuracy                           0.87       480\n",
      "   macro avg       0.79      0.61      0.64       480\n",
      "weighted avg       0.85      0.87      0.84       480\n",
      "\n",
      " \n",
      "White: \n",
      "              precision    recall  f1-score   support\n",
      "\n",
      "           0       0.82      0.98      0.89      1166\n",
      "           1       0.71      0.17      0.28       304\n",
      "\n",
      "    accuracy                           0.81      1470\n",
      "   macro avg       0.76      0.58      0.59      1470\n",
      "weighted avg       0.80      0.81      0.77      1470\n",
      "\n"
     ]
    }
   ],
   "source": [
    "# Classification Reports\n",
    "print(\"Red: \")\n",
    "print(classification_report(red_y_test, red_y_pred))\n",
    "print(\" \")\n",
    "print(\"White: \")\n",
    "print(classification_report(white_y_test, white_y_pred))"
   ]
  },
  {
   "cell_type": "code",
   "execution_count": null,
   "metadata": {},
   "outputs": [],
   "source": []
  }
 ],
 "metadata": {
  "kernelspec": {
   "display_name": "Python 3",
   "language": "python",
   "name": "python3"
  },
  "language_info": {
   "codemirror_mode": {
    "name": "ipython",
    "version": 3
   },
   "file_extension": ".py",
   "mimetype": "text/x-python",
   "name": "python",
   "nbconvert_exporter": "python",
   "pygments_lexer": "ipython3",
   "version": "3.8.5"
  }
 },
 "nbformat": 4,
 "nbformat_minor": 4
}
